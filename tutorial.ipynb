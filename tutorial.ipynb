{
    "cells": [
        {
            "cell_type": "markdown",
            "metadata": {},
            "source": [
                "# Jux Tutorial"
            ]
        },
        {
            "cell_type": "markdown",
            "metadata": {},
            "source": [
                "JUX is a jax-accelerated game core for Lux AI Challenge Season 2. This tutorial will guide you through the usage of JUX. Make sure you have fully understand [game rules](https://www.lux-ai.org/specs-2022-beta) of Lux AI Challenge Season 2 before going through this tutorial. This tutorial requires you to have basic knowledge of JAX."
            ]
        },
        {
            "cell_type": "code",
            "execution_count": null,
            "metadata": {},
            "outputs": [],
            "source": [
                "# rich is needed by this tutorial for nice printing\n",
                "%pip install rich"
            ]
        },
        {
            "cell_type": "markdown",
            "metadata": {},
            "source": [
                "# The Art of Dancing with Shackles"
            ]
        },
        {
            "attachments": {},
            "cell_type": "markdown",
            "metadata": {},
            "source": [
                "Programming in JAX is an art of dancing with shackles.\n",
                "\n",
                "JAX in nature is a library aimed for array manipulation, not for general purpose programming. Programming in JAX is quite different from normal programming paradigm, and sometimes painful. Nearly all weird APIs you encountered in JUX are due to some limitation JAX exerts on us. Here are some of them:\n",
                "\n",
                "1. We need to map all if-else, for-loop, and other normal statements to JAX's **array operators**. Good news is that this part is done in JUX, and you don't need to worry about it.\n",
                "\n",
                "2. We need to adopt a **functional programming style**, which means we need to avoid mutating variables, and use immutable data structures. Every time you want to change a field of a class, you need to create a new instance of that class. This explains why you must pass in current game state to every function in JUX, and receive a new game state from them.\n",
                "\n",
                "3. We have **no advanced data structures** like list, dict, set, etc. All we have is just array, and we need to imitate all kinds of data structures with array.\n",
                "\n",
                "4. We must adopt a strange **attribute-first memory layout**, which is counter-intuitive for most programmers at first glance, but it is the key to understand the game state object.\n",
                "\n",
                "5. To make functions jittable, all arrays must be of **static shape and dtype**. In other word, we have no stuff like lists with dynamic length. Every list must be of fixed length. If not, pad it to a fixed length, and use another variable to record the actual length.\n",
                "\n",
                "But, what can we get from JAX? The answer is the massive parallel computation power and perfect portability. We need not to write any CUDA kernels or even any C++ code to enjoy the power of GPU. The whole project is implemented in pure python, so it can run on Linux/Windows/MacOS, and on CPU/GPU/TPU or any other XLA-compatible devices. This is cool, isn't it?"
            ]
        },
        {
            "cell_type": "markdown",
            "metadata": {},
            "source": [
                "## Create a New Environment\n",
                "\n",
                "We first create a new `JuxEnv` object. This object is analogous to a `LuxAI_S2`."
            ]
        },
        {
            "cell_type": "code",
            "execution_count": 2,
            "metadata": {},
            "outputs": [
                {
                    "data": {
                        "text/plain": [
                            "JuxBufferConfig(MAX_N_UNITS=200, MAX_GLOBAL_ID=2000, MAX_N_FACTORIES=6, MAP_SIZE=48)"
                        ]
                    },
                    "execution_count": 2,
                    "metadata": {},
                    "output_type": "execute_result"
                }
            ],
            "source": [
                "from jux.env import JuxEnv\n",
                "from jux.config import JuxBufferConfig, EnvConfig\n",
                "\n",
                "jux_env = JuxEnv(\n",
                "    env_cfg=EnvConfig(),\n",
                "    buf_cfg=JuxBufferConfig(MAX_N_UNITS=200),\n",
                ")\n",
                "\n",
                "jux_env.buf_cfg"
            ]
        },
        {
            "cell_type": "markdown",
            "metadata": {},
            "source": [
                "Beside the `EnvConfig` configuration, we also need to specify the `JuxBufferConfig`. The most important parameter is the `MAX_N_UNITS`, which greatly affects the performance and memory usage. The default value is 1000. See the performance section in [README.md](README.md#performance) for more details.\n",
                "\n",
                "Then, we reset the environment."
            ]
        },
        {
            "cell_type": "code",
            "execution_count": 3,
            "metadata": {},
            "outputs": [],
            "source": [
                "state = jux_env.reset(seed=0)"
            ]
        },
        {
            "cell_type": "markdown",
            "metadata": {},
            "source": [
                "The `reset()` function returns a `State` object, which stores the the current state of the game. Since LuxAI_S2 is a perfect information game, the `State` object is also our initial observation. The first time we call `reset()` takes several seconds for jax to compile it, and subsequent calls will be finished on the fly. Please run above cell again to see the difference."
            ]
        },
        {
            "cell_type": "markdown",
            "metadata": {},
            "source": [
                "We can visualize the game state by following code snippet. "
            ]
        },
        {
            "cell_type": "code",
            "execution_count": 4,
            "metadata": {},
            "outputs": [
                {
                    "data": {
                        "image/png": "[encoded data removed]",
                        "text/plain": [
                            "<Figure size 640x480 with 1 Axes>"
                        ]
                    },
                    "metadata": {},
                    "output_type": "display_data"
                }
            ],
            "source": [
                "import matplotlib.pyplot as plt\n",
                "img = jux_env.render(state, \"rgb_array\")\n",
                "plt.axis('off')\n",
                "plt.tight_layout()\n",
                "plt.imshow(img)\n",
                "plt.show()"
            ]
        },
        {
            "cell_type": "markdown",
            "metadata": {},
            "source": [
                "## Step the Environment"
            ]
        },
        {
            "attachments": {},
            "cell_type": "markdown",
            "metadata": {},
            "source": [
                "Let's first load a replay, and create our `JuxEnv` and `State` from it."
            ]
        },
        {
            "cell_type": "code",
            "execution_count": 5,
            "metadata": {},
            "outputs": [],
            "source": [
                "import jux.utils\n",
                "\n",
                "episode = '45740641'\n",
                "lux_env, lux_actions = jux.utils.load_replay(f'https://www.kaggleusercontent.com/episodes/{episode}.json')\n",
                "\n",
                "jux_env, state = JuxEnv.from_lux(lux_env, buf_cfg=JuxBufferConfig(MAX_N_UNITS=200))"
            ]
        },
        {
            "cell_type": "markdown",
            "metadata": {},
            "source": [
                "This section we show how to step the environment. LuxAI_S2 has three phases:\n",
                "1. the initial bid step\n",
                "2. the factory placement steps\n",
                "3. the normal steps\n",
                "\n",
                "To deal with three different phases, the `LuxAI_S2.step()` function is replaced with three phase-specific step functions:\n",
                "1. `JuxEnv.step_bid()`\n",
                "2. `JuxEnv.step_factory_placement()`\n",
                "3. `JuxEnv.step_late_game()`\n",
                "\n",
                "Each of them has unique signature and deal a specific game phase."
            ]
        },
        {
            "attachments": {},
            "cell_type": "markdown",
            "metadata": {},
            "source": [
                "### Bid Step\n",
                "\n",
                "The first step is bid step, which is handled by `JuxEnv.step_bid()`. Jax adopts a functional programming style, so `JuxEnv` stores nothing about the game state. Every time we call `step_bid()`, the current game state shall be passed in, and a new game state is passed out. The same rule also applies to `step_factory_placement()` and `step_late_game()`."
            ]
        },
        {
            "cell_type": "code",
            "execution_count": 6,
            "metadata": {},
            "outputs": [
                {
                    "name": "stdout",
                    "output_type": "stream",
                    "text": [
                        "bid action in Lux:\n",
                        "{'player_0': {'bid': 0, 'faction': 'AlphaStrike'},\n",
                        " 'player_1': {'bid': 0, 'faction': 'AlphaStrike'}}\n",
                        "\n",
                        "bid action in Jux:\n",
                        "bid = [0 0], faction = [0 0]\n"
                    ]
                }
            ],
            "source": [
                "import jux.actions\n",
                "from pprint import pprint\n",
                "\n",
                "lux_act = next(lux_actions)\n",
                "\n",
                "print(\"bid action in Lux:\")\n",
                "pprint(lux_act, compact=False)\n",
                "\n",
                "bid, faction = jux.actions.bid_action_from_lux(lux_act)\n",
                "print()\n",
                "print(\"bid action in Jux:\")\n",
                "print(f\"{bid = !s}, {faction = !s}\")\n",
                "\n",
                "state, (observations, rewards, dones, infos) = jux_env.step_bid(state, bid, faction)"
            ]
        },
        {
            "cell_type": "markdown",
            "metadata": {},
            "source": [
                "The argument `bid` and `faction` shall have following shapes."
            ]
        },
        {
            "cell_type": "code",
            "execution_count": 7,
            "metadata": {},
            "outputs": [
                {
                    "name": "stdout",
                    "output_type": "stream",
                    "text": [
                        "bid: ShapedArray(int32[2])\n",
                        "faction: ShapedArray(int8[2])\n"
                    ]
                }
            ],
            "source": [
                "print(f\"bid: {bid.aval}\")\n",
                "print(f\"faction: {faction.aval}\")"
            ]
        },
        {
            "cell_type": "markdown",
            "metadata": {},
            "source": [
                "There are four factions, numbered from 0 to 3."
            ]
        },
        {
            "cell_type": "code",
            "execution_count": 8,
            "metadata": {},
            "outputs": [
                {
                    "data": {
                        "text/plain": [
                            "{0: <FactionTypes.AlphaStrike: 0>,\n",
                            " 1: <FactionTypes.MotherMars: 1>,\n",
                            " 2: <FactionTypes.TheBuilders: 2>,\n",
                            " 3: <FactionTypes.FirstMars: 3>}"
                        ]
                    },
                    "execution_count": 8,
                    "metadata": {},
                    "output_type": "execute_result"
                }
            ],
            "source": [
                "from jux.team import FactionTypes\n",
                "\n",
                "{int(f): f for f in FactionTypes}"
            ]
        },
        {
            "attachments": {},
            "cell_type": "markdown",
            "metadata": {},
            "source": [
                "Beside new game state, there are also other four return values, `observations`, `rewards`, `dones`, and `infos`.\n",
                "1. `observations` contains the observations for each player. Since LuxAI_S2 is a perfect information game, the observations are simply the same `state` object, i.e., \n",
                "    ```python\n",
                "    observations['player_0'] == observations['player_1'] == state\n",
                "    ```\n",
                "2. `rewards` contains the sum of lichens each player owns.\n",
                "3. `dones` is a dictionary of boolean values, which indicates whether the game is over for each player. It is gaurenteed that \n",
                "    ```python\n",
                "    dones['player_0'] == dones['player_1']\n",
                "    ```\n",
                "4. `infos` for each player is an empty dictionary, because there is no other infos to provide. \n",
                "    ```python\n",
                "    infos['player_0'] == infos['player_1'] == {}\n",
                "    ```"
            ]
        },
        {
            "cell_type": "markdown",
            "metadata": {},
            "source": [
                "### Factory Placement Steps\n",
                "\n",
                "The factory placement step is handled by `JuxEnv.step_factory_placement()`. The next player to place a factory is indicated by `state.next_player`."
            ]
        },
        {
            "cell_type": "code",
            "execution_count": 9,
            "metadata": {},
            "outputs": [
                {
                    "name": "stdout",
                    "output_type": "stream",
                    "text": [
                        "lux_act = {'player_0': {'metal': 150, 'spawn': [5, 43], 'water': 150}, 'player_1': {}}\n",
                        "player_0 place a factory at [ 5 43] with water=150, metal=150.\n",
                        "lux_act = {'player_0': {}, 'player_1': {'metal': 100, 'spawn': [23, 42], 'water': 100}}\n",
                        "player_1 place a factory at [23 42] with water=100, metal=100.\n",
                        "lux_act = {'player_0': {'metal': 150, 'spawn': [17, 9], 'water': 150}, 'player_1': {}}\n",
                        "player_0 place a factory at [17  9] with water=150, metal=150.\n",
                        "lux_act = {'player_0': {}, 'player_1': {'metal': 100, 'spawn': [8, 22], 'water': 100}}\n",
                        "player_1 place a factory at [ 8 22] with water=100, metal=100.\n",
                        "lux_act = {'player_0': {'metal': 150, 'spawn': [2, 24], 'water': 150}, 'player_1': {}}\n",
                        "player_0 place a factory at [ 2 24] with water=150, metal=150.\n",
                        "lux_act = {'player_0': {}, 'player_1': {'metal': 100, 'spawn': [20, 4], 'water': 100}}\n",
                        "player_1 place a factory at [20  4] with water=100, metal=100.\n"
                    ]
                }
            ],
            "source": [
                "while state.real_env_steps < 0:\n",
                "    lux_act = next(lux_actions)\n",
                "    print(f\"{lux_act = }\")\n",
                "    spawn, water, metal = jux.actions.factory_placement_action_from_lux(lux_act)\n",
                "\n",
                "    print(f\"player_{state.next_player!s} place a factory at {spawn[state.next_player]}\",\n",
                "          f\"with water={water[state.next_player]}, metal={metal[state.next_player]}.\")\n",
                "    state, (observations, rewards, dones, infos) = jux_env.step_factory_placement(state, spawn, water, metal)"
            ]
        },
        {
            "cell_type": "markdown",
            "metadata": {},
            "source": [
                "The argument `spawn`, `water`, and `metal` have a leading dimension 2, but only \n",
                "- `spawn[state.next_player]`\n",
                "- `water[state.next_player]`\n",
                "- `metal[state.next_player]`\n",
                "\n",
                "are used."
            ]
        },
        {
            "cell_type": "code",
            "execution_count": 10,
            "metadata": {},
            "outputs": [
                {
                    "name": "stdout",
                    "output_type": "stream",
                    "text": [
                        "spawn: ShapedArray(int8[2,2])\n",
                        "water: ShapedArray(int32[2])\n",
                        "metal: ShapedArray(int32[2])\n"
                    ]
                }
            ],
            "source": [
                "print(f\"spawn: {spawn.aval}\")\n",
                "print(f\"water: {water.aval}\")\n",
                "print(f\"metal: {metal.aval}\")"
            ]
        },
        {
            "cell_type": "markdown",
            "metadata": {},
            "source": [
                "This is the current game state."
            ]
        },
        {
            "cell_type": "code",
            "execution_count": 11,
            "metadata": {},
            "outputs": [
                {
                    "data": {
                        "image/png": "[encoded data removed]",
                        "text/plain": [
                            "<Figure size 640x480 with 1 Axes>"
                        ]
                    },
                    "metadata": {},
                    "output_type": "display_data"
                }
            ],
            "source": [
                "img = jux_env.render(state, \"rgb_array\")\n",
                "plt.axis('off')\n",
                "plt.tight_layout()\n",
                "plt.imshow(img)\n",
                "plt.show()"
            ]
        },
        {
            "cell_type": "markdown",
            "metadata": {},
            "source": [
                "### Normal Steps\n",
                "\n",
                "The normal steps are handled by `JuxEnv.step_late_game()`."
            ]
        },
        {
            "cell_type": "code",
            "execution_count": 12,
            "metadata": {},
            "outputs": [
                {
                    "data": {
                        "image/png": "[encoded data removed]",
                        "text/plain": [
                            "<Figure size 640x480 with 1 Axes>"
                        ]
                    },
                    "metadata": {},
                    "output_type": "display_data"
                }
            ],
            "source": [
                "from jux.actions import JuxAction\n",
                "# prepare actions\n",
                "lux_act = next(lux_actions)\n",
                "jux_act = JuxAction.from_lux(state, lux_act)\n",
                "\n",
                "# step\n",
                "state, (observations, rewards, dones, infos) = jux_env.step_late_game(state, jux_act)\n",
                "\n",
                "# render\n",
                "img = jux_env.render(state, \"rgb_array\")\n",
                "plt.axis('off')\n",
                "plt.tight_layout()\n",
                "plt.imshow(img)\n",
                "plt.show()"
            ]
        },
        {
            "cell_type": "markdown",
            "metadata": {},
            "source": [
                "`step_late_game()` takes an `JuxAction` object as input, which will be elaborated lately. The first time we call `step_late_game()` triggers the jax jit compilation, which is slow, but subsequent calls will be finished on the fly. You may run above cell again to see the difference."
            ]
        },
        {
            "cell_type": "markdown",
            "metadata": {},
            "source": [
                "## Understanding the `State`\n",
                "\n",
                "`State` object is a nested `NamedTuple`, with all leaves being `jax.numpy.ndarray`. It has following fields. "
            ]
        },
        {
            "cell_type": "code",
            "execution_count": 13,
            "metadata": {},
            "outputs": [
                {
                    "data": {
                        "text/plain": [
                            "('env_cfg',\n",
                            " 'seed',\n",
                            " 'rng_state',\n",
                            " 'env_steps',\n",
                            " 'board',\n",
                            " 'weather_schedule',\n",
                            " 'units',\n",
                            " 'unit_id2idx',\n",
                            " 'n_units',\n",
                            " 'factories',\n",
                            " 'factory_id2idx',\n",
                            " 'n_factories',\n",
                            " 'teams',\n",
                            " 'global_id',\n",
                            " 'place_first')"
                        ]
                    },
                    "execution_count": 13,
                    "metadata": {},
                    "output_type": "execute_result"
                }
            ],
            "source": [
                "state._fields"
            ]
        },
        {
            "cell_type": "markdown",
            "metadata": {},
            "source": [
                "### Board Information\n",
                "\n",
                "Information about the board, including rubble, ice, ore, and lichen, are stored in `state.board`."
            ]
        },
        {
            "cell_type": "code",
            "execution_count": 14,
            "metadata": {},
            "outputs": [
                {
                    "data": {
                        "text/html": [
                            "<pre style=\"white-space:pre;overflow-x:auto;line-height:normal;font-family:Menlo,'DejaVu Sans Mono',consolas,'Courier New',monospace\"><span style=\"color: #800080; text-decoration-color: #800080; font-weight: bold\">Board</span><span style=\"font-weight: bold\">(</span>\n",
                            "    <span style=\"color: #808000; text-decoration-color: #808000\">seed</span>=<span style=\"color: #800080; text-decoration-color: #800080; font-weight: bold\">ShapedArray</span><span style=\"font-weight: bold\">(</span>int32<span style=\"font-weight: bold\">[]</span>, <span style=\"color: #808000; text-decoration-color: #808000\">weak_type</span>=<span style=\"color: #00ff00; text-decoration-color: #00ff00; font-style: italic\">True</span><span style=\"font-weight: bold\">)</span>,\n",
                            "    <span style=\"color: #808000; text-decoration-color: #808000\">factories_per_team</span>=<span style=\"color: #800080; text-decoration-color: #800080; font-weight: bold\">ShapedArray</span><span style=\"font-weight: bold\">(</span>int8<span style=\"font-weight: bold\">[])</span>,\n",
                            "    <span style=\"color: #808000; text-decoration-color: #808000\">map</span>=<span style=\"color: #800080; text-decoration-color: #800080; font-weight: bold\">GameMap</span><span style=\"font-weight: bold\">(</span>\n",
                            "        <span style=\"color: #808000; text-decoration-color: #808000\">rubble</span>=<span style=\"color: #800080; text-decoration-color: #800080; font-weight: bold\">ShapedArray</span><span style=\"font-weight: bold\">(</span>int8<span style=\"font-weight: bold\">[</span><span style=\"color: #008080; text-decoration-color: #008080; font-weight: bold\">48</span>,<span style=\"color: #008080; text-decoration-color: #008080; font-weight: bold\">48</span><span style=\"font-weight: bold\">])</span>,\n",
                            "        <span style=\"color: #808000; text-decoration-color: #808000\">ice</span>=<span style=\"color: #800080; text-decoration-color: #800080; font-weight: bold\">ShapedArray</span><span style=\"font-weight: bold\">(</span>bool<span style=\"font-weight: bold\">[</span><span style=\"color: #008080; text-decoration-color: #008080; font-weight: bold\">48</span>,<span style=\"color: #008080; text-decoration-color: #008080; font-weight: bold\">48</span><span style=\"font-weight: bold\">])</span>,\n",
                            "        <span style=\"color: #808000; text-decoration-color: #808000\">ore</span>=<span style=\"color: #800080; text-decoration-color: #800080; font-weight: bold\">ShapedArray</span><span style=\"font-weight: bold\">(</span>bool<span style=\"font-weight: bold\">[</span><span style=\"color: #008080; text-decoration-color: #008080; font-weight: bold\">48</span>,<span style=\"color: #008080; text-decoration-color: #008080; font-weight: bold\">48</span><span style=\"font-weight: bold\">])</span>,\n",
                            "        <span style=\"color: #808000; text-decoration-color: #808000\">symmetry</span>=<span style=\"color: #800080; text-decoration-color: #800080; font-weight: bold\">ShapedArray</span><span style=\"font-weight: bold\">(</span>int8<span style=\"font-weight: bold\">[])</span>\n",
                            "    <span style=\"font-weight: bold\">)</span>,\n",
                            "    <span style=\"color: #808000; text-decoration-color: #808000\">lichen</span>=<span style=\"color: #800080; text-decoration-color: #800080; font-weight: bold\">ShapedArray</span><span style=\"font-weight: bold\">(</span>int32<span style=\"font-weight: bold\">[</span><span style=\"color: #008080; text-decoration-color: #008080; font-weight: bold\">48</span>,<span style=\"color: #008080; text-decoration-color: #008080; font-weight: bold\">48</span><span style=\"font-weight: bold\">])</span>,\n",
                            "    <span style=\"color: #808000; text-decoration-color: #808000\">lichen_strains</span>=<span style=\"color: #800080; text-decoration-color: #800080; font-weight: bold\">ShapedArray</span><span style=\"font-weight: bold\">(</span>int8<span style=\"font-weight: bold\">[</span><span style=\"color: #008080; text-decoration-color: #008080; font-weight: bold\">48</span>,<span style=\"color: #008080; text-decoration-color: #008080; font-weight: bold\">48</span><span style=\"font-weight: bold\">])</span>,\n",
                            "    <span style=\"color: #808000; text-decoration-color: #808000\">units_map</span>=<span style=\"color: #800080; text-decoration-color: #800080; font-weight: bold\">ShapedArray</span><span style=\"font-weight: bold\">(</span>int16<span style=\"font-weight: bold\">[</span><span style=\"color: #008080; text-decoration-color: #008080; font-weight: bold\">48</span>,<span style=\"color: #008080; text-decoration-color: #008080; font-weight: bold\">48</span><span style=\"font-weight: bold\">])</span>,\n",
                            "    <span style=\"color: #808000; text-decoration-color: #808000\">factory_map</span>=<span style=\"color: #800080; text-decoration-color: #800080; font-weight: bold\">ShapedArray</span><span style=\"font-weight: bold\">(</span>int8<span style=\"font-weight: bold\">[</span><span style=\"color: #008080; text-decoration-color: #008080; font-weight: bold\">48</span>,<span style=\"color: #008080; text-decoration-color: #008080; font-weight: bold\">48</span><span style=\"font-weight: bold\">])</span>,\n",
                            "    <span style=\"color: #808000; text-decoration-color: #808000\">factory_occupancy_map</span>=<span style=\"color: #800080; text-decoration-color: #800080; font-weight: bold\">ShapedArray</span><span style=\"font-weight: bold\">(</span>int8<span style=\"font-weight: bold\">[</span><span style=\"color: #008080; text-decoration-color: #008080; font-weight: bold\">48</span>,<span style=\"color: #008080; text-decoration-color: #008080; font-weight: bold\">48</span><span style=\"font-weight: bold\">])</span>,\n",
                            "    <span style=\"color: #808000; text-decoration-color: #808000\">factory_pos</span>=<span style=\"color: #800080; text-decoration-color: #800080; font-weight: bold\">ShapedArray</span><span style=\"font-weight: bold\">(</span>int8<span style=\"font-weight: bold\">[</span><span style=\"color: #008080; text-decoration-color: #008080; font-weight: bold\">12</span>,<span style=\"color: #008080; text-decoration-color: #008080; font-weight: bold\">2</span><span style=\"font-weight: bold\">])</span>\n",
                            "<span style=\"font-weight: bold\">)</span>\n",
                            "</pre>\n"
                        ],
                        "text/plain": [
                            "\u001b[1;35mBoard\u001b[0m\u001b[1m(\u001b[0m\n",
                            "    \u001b[33mseed\u001b[0m=\u001b[1;35mShapedArray\u001b[0m\u001b[1m(\u001b[0mint32\u001b[1m[\u001b[0m\u001b[1m]\u001b[0m, \u001b[33mweak_type\u001b[0m=\u001b[3;92mTrue\u001b[0m\u001b[1m)\u001b[0m,\n",
                            "    \u001b[33mfactories_per_team\u001b[0m=\u001b[1;35mShapedArray\u001b[0m\u001b[1m(\u001b[0mint8\u001b[1m[\u001b[0m\u001b[1m]\u001b[0m\u001b[1m)\u001b[0m,\n",
                            "    \u001b[33mmap\u001b[0m=\u001b[1;35mGameMap\u001b[0m\u001b[1m(\u001b[0m\n",
                            "        \u001b[33mrubble\u001b[0m=\u001b[1;35mShapedArray\u001b[0m\u001b[1m(\u001b[0mint8\u001b[1m[\u001b[0m\u001b[1;36m48\u001b[0m,\u001b[1;36m48\u001b[0m\u001b[1m]\u001b[0m\u001b[1m)\u001b[0m,\n",
                            "        \u001b[33mice\u001b[0m=\u001b[1;35mShapedArray\u001b[0m\u001b[1m(\u001b[0mbool\u001b[1m[\u001b[0m\u001b[1;36m48\u001b[0m,\u001b[1;36m48\u001b[0m\u001b[1m]\u001b[0m\u001b[1m)\u001b[0m,\n",
                            "        \u001b[33more\u001b[0m=\u001b[1;35mShapedArray\u001b[0m\u001b[1m(\u001b[0mbool\u001b[1m[\u001b[0m\u001b[1;36m48\u001b[0m,\u001b[1;36m48\u001b[0m\u001b[1m]\u001b[0m\u001b[1m)\u001b[0m,\n",
                            "        \u001b[33msymmetry\u001b[0m=\u001b[1;35mShapedArray\u001b[0m\u001b[1m(\u001b[0mint8\u001b[1m[\u001b[0m\u001b[1m]\u001b[0m\u001b[1m)\u001b[0m\n",
                            "    \u001b[1m)\u001b[0m,\n",
                            "    \u001b[33mlichen\u001b[0m=\u001b[1;35mShapedArray\u001b[0m\u001b[1m(\u001b[0mint32\u001b[1m[\u001b[0m\u001b[1;36m48\u001b[0m,\u001b[1;36m48\u001b[0m\u001b[1m]\u001b[0m\u001b[1m)\u001b[0m,\n",
                            "    \u001b[33mlichen_strains\u001b[0m=\u001b[1;35mShapedArray\u001b[0m\u001b[1m(\u001b[0mint8\u001b[1m[\u001b[0m\u001b[1;36m48\u001b[0m,\u001b[1;36m48\u001b[0m\u001b[1m]\u001b[0m\u001b[1m)\u001b[0m,\n",
                            "    \u001b[33munits_map\u001b[0m=\u001b[1;35mShapedArray\u001b[0m\u001b[1m(\u001b[0mint16\u001b[1m[\u001b[0m\u001b[1;36m48\u001b[0m,\u001b[1;36m48\u001b[0m\u001b[1m]\u001b[0m\u001b[1m)\u001b[0m,\n",
                            "    \u001b[33mfactory_map\u001b[0m=\u001b[1;35mShapedArray\u001b[0m\u001b[1m(\u001b[0mint8\u001b[1m[\u001b[0m\u001b[1;36m48\u001b[0m,\u001b[1;36m48\u001b[0m\u001b[1m]\u001b[0m\u001b[1m)\u001b[0m,\n",
                            "    \u001b[33mfactory_occupancy_map\u001b[0m=\u001b[1;35mShapedArray\u001b[0m\u001b[1m(\u001b[0mint8\u001b[1m[\u001b[0m\u001b[1;36m48\u001b[0m,\u001b[1;36m48\u001b[0m\u001b[1m]\u001b[0m\u001b[1m)\u001b[0m,\n",
                            "    \u001b[33mfactory_pos\u001b[0m=\u001b[1;35mShapedArray\u001b[0m\u001b[1m(\u001b[0mint8\u001b[1m[\u001b[0m\u001b[1;36m12\u001b[0m,\u001b[1;36m2\u001b[0m\u001b[1m]\u001b[0m\u001b[1m)\u001b[0m\n",
                            "\u001b[1m)\u001b[0m\n"
                        ]
                    },
                    "metadata": {},
                    "output_type": "display_data"
                }
            ],
            "source": [
                "import jux.tree_util\n",
                "import rich\n",
                "rich.print(jux.tree_util.map_to_aval(state.board))"
            ]
        },
        {
            "cell_type": "markdown",
            "metadata": {},
            "source": [
                "### Factory Information\n",
                "\n",
                "All information about factories, including their position, cargo, and power, are stored in `state.factories`. `state.n_factories` indicates the number of factories each player has. Because we have just reset the environment, both players have 0 factory. The leaves of `state.factories` have shapes shown as below. "
            ]
        },
        {
            "cell_type": "code",
            "execution_count": 15,
            "metadata": {},
            "outputs": [
                {
                    "name": "stdout",
                    "output_type": "stream",
                    "text": [
                        "state.n_factories = DeviceArray([3, 3], dtype=int8)\n"
                    ]
                },
                {
                    "data": {
                        "text/html": [
                            "<pre style=\"white-space:pre;overflow-x:auto;line-height:normal;font-family:Menlo,'DejaVu Sans Mono',consolas,'Courier New',monospace\"><span style=\"color: #800080; text-decoration-color: #800080; font-weight: bold\">Factory</span><span style=\"font-weight: bold\">(</span>\n",
                            "    <span style=\"color: #808000; text-decoration-color: #808000\">team_id</span>=<span style=\"color: #800080; text-decoration-color: #800080; font-weight: bold\">ShapedArray</span><span style=\"font-weight: bold\">(</span>int8<span style=\"font-weight: bold\">[</span><span style=\"color: #008080; text-decoration-color: #008080; font-weight: bold\">2</span>,<span style=\"color: #008080; text-decoration-color: #008080; font-weight: bold\">6</span><span style=\"font-weight: bold\">])</span>,\n",
                            "    <span style=\"color: #808000; text-decoration-color: #808000\">unit_id</span>=<span style=\"color: #800080; text-decoration-color: #800080; font-weight: bold\">ShapedArray</span><span style=\"font-weight: bold\">(</span>int8<span style=\"font-weight: bold\">[</span><span style=\"color: #008080; text-decoration-color: #008080; font-weight: bold\">2</span>,<span style=\"color: #008080; text-decoration-color: #008080; font-weight: bold\">6</span><span style=\"font-weight: bold\">])</span>,\n",
                            "    <span style=\"color: #808000; text-decoration-color: #808000\">pos</span>=<span style=\"color: #800080; text-decoration-color: #800080; font-weight: bold\">Position</span><span style=\"font-weight: bold\">(</span><span style=\"color: #808000; text-decoration-color: #808000\">pos</span>=<span style=\"color: #800080; text-decoration-color: #800080; font-weight: bold\">ShapedArray</span><span style=\"font-weight: bold\">(</span>int8<span style=\"font-weight: bold\">[</span><span style=\"color: #008080; text-decoration-color: #008080; font-weight: bold\">2</span>,<span style=\"color: #008080; text-decoration-color: #008080; font-weight: bold\">6</span>,<span style=\"color: #008080; text-decoration-color: #008080; font-weight: bold\">2</span><span style=\"font-weight: bold\">]))</span>,\n",
                            "    <span style=\"color: #808000; text-decoration-color: #808000\">power</span>=<span style=\"color: #800080; text-decoration-color: #800080; font-weight: bold\">ShapedArray</span><span style=\"font-weight: bold\">(</span>int32<span style=\"font-weight: bold\">[</span><span style=\"color: #008080; text-decoration-color: #008080; font-weight: bold\">2</span>,<span style=\"color: #008080; text-decoration-color: #008080; font-weight: bold\">6</span><span style=\"font-weight: bold\">])</span>,\n",
                            "    <span style=\"color: #808000; text-decoration-color: #808000\">cargo</span>=<span style=\"color: #800080; text-decoration-color: #800080; font-weight: bold\">UnitCargo</span><span style=\"font-weight: bold\">(</span><span style=\"color: #808000; text-decoration-color: #808000\">stock</span>=<span style=\"color: #800080; text-decoration-color: #800080; font-weight: bold\">ShapedArray</span><span style=\"font-weight: bold\">(</span>int32<span style=\"font-weight: bold\">[</span><span style=\"color: #008080; text-decoration-color: #008080; font-weight: bold\">2</span>,<span style=\"color: #008080; text-decoration-color: #008080; font-weight: bold\">6</span>,<span style=\"color: #008080; text-decoration-color: #008080; font-weight: bold\">4</span><span style=\"font-weight: bold\">]))</span>\n",
                            "<span style=\"font-weight: bold\">)</span>\n",
                            "</pre>\n"
                        ],
                        "text/plain": [
                            "\u001b[1;35mFactory\u001b[0m\u001b[1m(\u001b[0m\n",
                            "    \u001b[33mteam_id\u001b[0m=\u001b[1;35mShapedArray\u001b[0m\u001b[1m(\u001b[0mint8\u001b[1m[\u001b[0m\u001b[1;36m2\u001b[0m,\u001b[1;36m6\u001b[0m\u001b[1m]\u001b[0m\u001b[1m)\u001b[0m,\n",
                            "    \u001b[33munit_id\u001b[0m=\u001b[1;35mShapedArray\u001b[0m\u001b[1m(\u001b[0mint8\u001b[1m[\u001b[0m\u001b[1;36m2\u001b[0m,\u001b[1;36m6\u001b[0m\u001b[1m]\u001b[0m\u001b[1m)\u001b[0m,\n",
                            "    \u001b[33mpos\u001b[0m=\u001b[1;35mPosition\u001b[0m\u001b[1m(\u001b[0m\u001b[33mpos\u001b[0m=\u001b[1;35mShapedArray\u001b[0m\u001b[1m(\u001b[0mint8\u001b[1m[\u001b[0m\u001b[1;36m2\u001b[0m,\u001b[1;36m6\u001b[0m,\u001b[1;36m2\u001b[0m\u001b[1m]\u001b[0m\u001b[1m)\u001b[0m\u001b[1m)\u001b[0m,\n",
                            "    \u001b[33mpower\u001b[0m=\u001b[1;35mShapedArray\u001b[0m\u001b[1m(\u001b[0mint32\u001b[1m[\u001b[0m\u001b[1;36m2\u001b[0m,\u001b[1;36m6\u001b[0m\u001b[1m]\u001b[0m\u001b[1m)\u001b[0m,\n",
                            "    \u001b[33mcargo\u001b[0m=\u001b[1;35mUnitCargo\u001b[0m\u001b[1m(\u001b[0m\u001b[33mstock\u001b[0m=\u001b[1;35mShapedArray\u001b[0m\u001b[1m(\u001b[0mint32\u001b[1m[\u001b[0m\u001b[1;36m2\u001b[0m,\u001b[1;36m6\u001b[0m,\u001b[1;36m4\u001b[0m\u001b[1m]\u001b[0m\u001b[1m)\u001b[0m\u001b[1m)\u001b[0m\n",
                            "\u001b[1m)\u001b[0m\n"
                        ]
                    },
                    "metadata": {},
                    "output_type": "display_data"
                }
            ],
            "source": [
                "print(f\"{state.n_factories = }\")\n",
                "rich.print(jux.tree_util.map_to_aval(state.factories))"
            ]
        },
        {
            "cell_type": "markdown",
            "metadata": {},
            "source": [
                "All leaves of `state.factories` have leading dimensions of `(2, MAX_N_FACTORIES)`. Data of player 0 are stored in `state.factories.xxx[0]` and data of player 1 are stored in `state.factories.xxx[1]`.\n",
                "\n",
                "Assume `state.n_factories` is `[2, 3]`, then player 0 has 2 factories, and player 1 has 3 factories. For player 0, the 2 factories he/she owns have power `state.factories.power[0, 0]` and `state.units.factories[0, 1]`, respectively. All values in `state.factories.power[0, 2:]` are invalid and undefined, because player 0 only has 2 factories. The same rule applies to other fields in `state.factories`. "
            ]
        },
        {
            "attachments": {},
            "cell_type": "markdown",
            "metadata": {},
            "source": [
                "#### Memory layout: Object-frist vs Attribute-first\n",
                "The memory layout of `state.factories` is different from the classic object-oriented programming style. Take power as an example, the power of all units are stored in a single array. We call such kind of memory layout **attribute-first**, because it arranges the same attributes of all objects into consecutive memory space. \n",
                "\n",
                "In classic object-oriented programming, if we have a list of objects, we usually stores all attributes of an object in a single memory block, and maintain a list of such memory block. It usually looks like this:\n",
                "```python\n",
                "[\n",
                "    Factory(unit_id=0, power=0, ... ),\n",
                "    Factory( ... ),\n",
                "    Factory( ... ),\n",
                "    Factory( ... ),\n",
                "    ...\n",
                "]\n",
                "```\n",
                "This is called **object-first** memory layout, because it arranges the same object into consecutive memory space.\n",
                "\n",
                "In **attribute-first** layout, we only have one `Factory` object, but its attributes have a leading batch dimension. It looks like this:\n",
                "```python\n",
                "Factory(\n",
                "    unit_id=[0, 1, 2, 3, ...],\n",
                "    power=[0, 0, 0, 0, ...],\n",
                "    ...\n",
                ")\n",
                "```\n",
                "\n",
                "The biggest advantage of attribute-first layout is that it is array-friendly. We can use array operations to manipulate the data. For example, we can implement factory power gain by a simple vector addition. \n",
                "```python\n",
                "new_power = state.factories.power + state.env_cfg.FACTORY_CHARGE\n",
                "```"
            ]
        },
        {
            "attachments": {},
            "cell_type": "markdown",
            "metadata": {},
            "source": [
                "### Unit Information\n",
                "\n",
                "Information about units, including their unit type, position, cargo, and power, are stored in `state.units`. `state.n_units` indicates the number of units each player has. The leaves of `state.units` have shapes shown as below. Similar as factories, units are also stored in attribute-first layout. All leaves of `state.units` have leading dimensions of `(2, MAX_N_UNITS)`. More info about `state.units.action_queue` will be elaborated in ."
            ]
        },
        {
            "cell_type": "code",
            "execution_count": 16,
            "metadata": {},
            "outputs": [
                {
                    "name": "stdout",
                    "output_type": "stream",
                    "text": [
                        "state.n_units = DeviceArray([3, 3], dtype=int16)\n"
                    ]
                },
                {
                    "data": {
                        "text/html": [
                            "<pre style=\"white-space:pre;overflow-x:auto;line-height:normal;font-family:Menlo,'DejaVu Sans Mono',consolas,'Courier New',monospace\"><span style=\"color: #800080; text-decoration-color: #800080; font-weight: bold\">Unit</span><span style=\"font-weight: bold\">(</span>\n",
                            "    <span style=\"color: #808000; text-decoration-color: #808000\">unit_type</span>=<span style=\"color: #800080; text-decoration-color: #800080; font-weight: bold\">ShapedArray</span><span style=\"font-weight: bold\">(</span>int8<span style=\"font-weight: bold\">[</span><span style=\"color: #008080; text-decoration-color: #008080; font-weight: bold\">2</span>,<span style=\"color: #008080; text-decoration-color: #008080; font-weight: bold\">200</span><span style=\"font-weight: bold\">])</span>,\n",
                            "    <span style=\"color: #808000; text-decoration-color: #808000\">action_queue</span>=<span style=\"color: #800080; text-decoration-color: #800080; font-weight: bold\">ActionQueue</span><span style=\"font-weight: bold\">(</span>\n",
                            "        <span style=\"color: #808000; text-decoration-color: #808000\">data</span>=<span style=\"color: #800080; text-decoration-color: #800080; font-weight: bold\">UnitAction</span><span style=\"font-weight: bold\">(</span>\n",
                            "            <span style=\"color: #808000; text-decoration-color: #808000\">action_type</span>=<span style=\"color: #800080; text-decoration-color: #800080; font-weight: bold\">ShapedArray</span><span style=\"font-weight: bold\">(</span>int8<span style=\"font-weight: bold\">[</span><span style=\"color: #008080; text-decoration-color: #008080; font-weight: bold\">2</span>,<span style=\"color: #008080; text-decoration-color: #008080; font-weight: bold\">200</span>,<span style=\"color: #008080; text-decoration-color: #008080; font-weight: bold\">20</span><span style=\"font-weight: bold\">])</span>,\n",
                            "            <span style=\"color: #808000; text-decoration-color: #808000\">direction</span>=<span style=\"color: #800080; text-decoration-color: #800080; font-weight: bold\">ShapedArray</span><span style=\"font-weight: bold\">(</span>int8<span style=\"font-weight: bold\">[</span><span style=\"color: #008080; text-decoration-color: #008080; font-weight: bold\">2</span>,<span style=\"color: #008080; text-decoration-color: #008080; font-weight: bold\">200</span>,<span style=\"color: #008080; text-decoration-color: #008080; font-weight: bold\">20</span><span style=\"font-weight: bold\">])</span>,\n",
                            "            <span style=\"color: #808000; text-decoration-color: #808000\">resource_type</span>=<span style=\"color: #800080; text-decoration-color: #800080; font-weight: bold\">ShapedArray</span><span style=\"font-weight: bold\">(</span>int8<span style=\"font-weight: bold\">[</span><span style=\"color: #008080; text-decoration-color: #008080; font-weight: bold\">2</span>,<span style=\"color: #008080; text-decoration-color: #008080; font-weight: bold\">200</span>,<span style=\"color: #008080; text-decoration-color: #008080; font-weight: bold\">20</span><span style=\"font-weight: bold\">])</span>,\n",
                            "            <span style=\"color: #808000; text-decoration-color: #808000\">amount</span>=<span style=\"color: #800080; text-decoration-color: #800080; font-weight: bold\">ShapedArray</span><span style=\"font-weight: bold\">(</span>int16<span style=\"font-weight: bold\">[</span><span style=\"color: #008080; text-decoration-color: #008080; font-weight: bold\">2</span>,<span style=\"color: #008080; text-decoration-color: #008080; font-weight: bold\">200</span>,<span style=\"color: #008080; text-decoration-color: #008080; font-weight: bold\">20</span><span style=\"font-weight: bold\">])</span>,\n",
                            "            <span style=\"color: #808000; text-decoration-color: #808000\">repeat</span>=<span style=\"color: #800080; text-decoration-color: #800080; font-weight: bold\">ShapedArray</span><span style=\"font-weight: bold\">(</span>int8<span style=\"font-weight: bold\">[</span><span style=\"color: #008080; text-decoration-color: #008080; font-weight: bold\">2</span>,<span style=\"color: #008080; text-decoration-color: #008080; font-weight: bold\">200</span>,<span style=\"color: #008080; text-decoration-color: #008080; font-weight: bold\">20</span><span style=\"font-weight: bold\">])</span>\n",
                            "        <span style=\"font-weight: bold\">)</span>,\n",
                            "        <span style=\"color: #808000; text-decoration-color: #808000\">front</span>=<span style=\"color: #800080; text-decoration-color: #800080; font-weight: bold\">ShapedArray</span><span style=\"font-weight: bold\">(</span>int8<span style=\"font-weight: bold\">[</span><span style=\"color: #008080; text-decoration-color: #008080; font-weight: bold\">2</span>,<span style=\"color: #008080; text-decoration-color: #008080; font-weight: bold\">200</span><span style=\"font-weight: bold\">])</span>,\n",
                            "        <span style=\"color: #808000; text-decoration-color: #808000\">rear</span>=<span style=\"color: #800080; text-decoration-color: #800080; font-weight: bold\">ShapedArray</span><span style=\"font-weight: bold\">(</span>int8<span style=\"font-weight: bold\">[</span><span style=\"color: #008080; text-decoration-color: #008080; font-weight: bold\">2</span>,<span style=\"color: #008080; text-decoration-color: #008080; font-weight: bold\">200</span><span style=\"font-weight: bold\">])</span>,\n",
                            "        <span style=\"color: #808000; text-decoration-color: #808000\">count</span>=<span style=\"color: #800080; text-decoration-color: #800080; font-weight: bold\">ShapedArray</span><span style=\"font-weight: bold\">(</span>int8<span style=\"font-weight: bold\">[</span><span style=\"color: #008080; text-decoration-color: #008080; font-weight: bold\">2</span>,<span style=\"color: #008080; text-decoration-color: #008080; font-weight: bold\">200</span><span style=\"font-weight: bold\">])</span>\n",
                            "    <span style=\"font-weight: bold\">)</span>,\n",
                            "    <span style=\"color: #808000; text-decoration-color: #808000\">team_id</span>=<span style=\"color: #800080; text-decoration-color: #800080; font-weight: bold\">ShapedArray</span><span style=\"font-weight: bold\">(</span>int8<span style=\"font-weight: bold\">[</span><span style=\"color: #008080; text-decoration-color: #008080; font-weight: bold\">2</span>,<span style=\"color: #008080; text-decoration-color: #008080; font-weight: bold\">200</span><span style=\"font-weight: bold\">])</span>,\n",
                            "    <span style=\"color: #808000; text-decoration-color: #808000\">unit_id</span>=<span style=\"color: #800080; text-decoration-color: #800080; font-weight: bold\">ShapedArray</span><span style=\"font-weight: bold\">(</span>int16<span style=\"font-weight: bold\">[</span><span style=\"color: #008080; text-decoration-color: #008080; font-weight: bold\">2</span>,<span style=\"color: #008080; text-decoration-color: #008080; font-weight: bold\">200</span><span style=\"font-weight: bold\">])</span>,\n",
                            "    <span style=\"color: #808000; text-decoration-color: #808000\">pos</span>=<span style=\"color: #800080; text-decoration-color: #800080; font-weight: bold\">Position</span><span style=\"font-weight: bold\">(</span><span style=\"color: #808000; text-decoration-color: #808000\">pos</span>=<span style=\"color: #800080; text-decoration-color: #800080; font-weight: bold\">ShapedArray</span><span style=\"font-weight: bold\">(</span>int8<span style=\"font-weight: bold\">[</span><span style=\"color: #008080; text-decoration-color: #008080; font-weight: bold\">2</span>,<span style=\"color: #008080; text-decoration-color: #008080; font-weight: bold\">200</span>,<span style=\"color: #008080; text-decoration-color: #008080; font-weight: bold\">2</span><span style=\"font-weight: bold\">]))</span>,\n",
                            "    <span style=\"color: #808000; text-decoration-color: #808000\">cargo</span>=<span style=\"color: #800080; text-decoration-color: #800080; font-weight: bold\">UnitCargo</span><span style=\"font-weight: bold\">(</span><span style=\"color: #808000; text-decoration-color: #808000\">stock</span>=<span style=\"color: #800080; text-decoration-color: #800080; font-weight: bold\">ShapedArray</span><span style=\"font-weight: bold\">(</span>int32<span style=\"font-weight: bold\">[</span><span style=\"color: #008080; text-decoration-color: #008080; font-weight: bold\">2</span>,<span style=\"color: #008080; text-decoration-color: #008080; font-weight: bold\">200</span>,<span style=\"color: #008080; text-decoration-color: #008080; font-weight: bold\">4</span><span style=\"font-weight: bold\">]))</span>,\n",
                            "    <span style=\"color: #808000; text-decoration-color: #808000\">power</span>=<span style=\"color: #800080; text-decoration-color: #800080; font-weight: bold\">ShapedArray</span><span style=\"font-weight: bold\">(</span>int32<span style=\"font-weight: bold\">[</span><span style=\"color: #008080; text-decoration-color: #008080; font-weight: bold\">2</span>,<span style=\"color: #008080; text-decoration-color: #008080; font-weight: bold\">200</span><span style=\"font-weight: bold\">])</span>\n",
                            "<span style=\"font-weight: bold\">)</span>\n",
                            "</pre>\n"
                        ],
                        "text/plain": [
                            "\u001b[1;35mUnit\u001b[0m\u001b[1m(\u001b[0m\n",
                            "    \u001b[33munit_type\u001b[0m=\u001b[1;35mShapedArray\u001b[0m\u001b[1m(\u001b[0mint8\u001b[1m[\u001b[0m\u001b[1;36m2\u001b[0m,\u001b[1;36m200\u001b[0m\u001b[1m]\u001b[0m\u001b[1m)\u001b[0m,\n",
                            "    \u001b[33maction_queue\u001b[0m=\u001b[1;35mActionQueue\u001b[0m\u001b[1m(\u001b[0m\n",
                            "        \u001b[33mdata\u001b[0m=\u001b[1;35mUnitAction\u001b[0m\u001b[1m(\u001b[0m\n",
                            "            \u001b[33maction_type\u001b[0m=\u001b[1;35mShapedArray\u001b[0m\u001b[1m(\u001b[0mint8\u001b[1m[\u001b[0m\u001b[1;36m2\u001b[0m,\u001b[1;36m200\u001b[0m,\u001b[1;36m20\u001b[0m\u001b[1m]\u001b[0m\u001b[1m)\u001b[0m,\n",
                            "            \u001b[33mdirection\u001b[0m=\u001b[1;35mShapedArray\u001b[0m\u001b[1m(\u001b[0mint8\u001b[1m[\u001b[0m\u001b[1;36m2\u001b[0m,\u001b[1;36m200\u001b[0m,\u001b[1;36m20\u001b[0m\u001b[1m]\u001b[0m\u001b[1m)\u001b[0m,\n",
                            "            \u001b[33mresource_type\u001b[0m=\u001b[1;35mShapedArray\u001b[0m\u001b[1m(\u001b[0mint8\u001b[1m[\u001b[0m\u001b[1;36m2\u001b[0m,\u001b[1;36m200\u001b[0m,\u001b[1;36m20\u001b[0m\u001b[1m]\u001b[0m\u001b[1m)\u001b[0m,\n",
                            "            \u001b[33mamount\u001b[0m=\u001b[1;35mShapedArray\u001b[0m\u001b[1m(\u001b[0mint16\u001b[1m[\u001b[0m\u001b[1;36m2\u001b[0m,\u001b[1;36m200\u001b[0m,\u001b[1;36m20\u001b[0m\u001b[1m]\u001b[0m\u001b[1m)\u001b[0m,\n",
                            "            \u001b[33mrepeat\u001b[0m=\u001b[1;35mShapedArray\u001b[0m\u001b[1m(\u001b[0mint8\u001b[1m[\u001b[0m\u001b[1;36m2\u001b[0m,\u001b[1;36m200\u001b[0m,\u001b[1;36m20\u001b[0m\u001b[1m]\u001b[0m\u001b[1m)\u001b[0m\n",
                            "        \u001b[1m)\u001b[0m,\n",
                            "        \u001b[33mfront\u001b[0m=\u001b[1;35mShapedArray\u001b[0m\u001b[1m(\u001b[0mint8\u001b[1m[\u001b[0m\u001b[1;36m2\u001b[0m,\u001b[1;36m200\u001b[0m\u001b[1m]\u001b[0m\u001b[1m)\u001b[0m,\n",
                            "        \u001b[33mrear\u001b[0m=\u001b[1;35mShapedArray\u001b[0m\u001b[1m(\u001b[0mint8\u001b[1m[\u001b[0m\u001b[1;36m2\u001b[0m,\u001b[1;36m200\u001b[0m\u001b[1m]\u001b[0m\u001b[1m)\u001b[0m,\n",
                            "        \u001b[33mcount\u001b[0m=\u001b[1;35mShapedArray\u001b[0m\u001b[1m(\u001b[0mint8\u001b[1m[\u001b[0m\u001b[1;36m2\u001b[0m,\u001b[1;36m200\u001b[0m\u001b[1m]\u001b[0m\u001b[1m)\u001b[0m\n",
                            "    \u001b[1m)\u001b[0m,\n",
                            "    \u001b[33mteam_id\u001b[0m=\u001b[1;35mShapedArray\u001b[0m\u001b[1m(\u001b[0mint8\u001b[1m[\u001b[0m\u001b[1;36m2\u001b[0m,\u001b[1;36m200\u001b[0m\u001b[1m]\u001b[0m\u001b[1m)\u001b[0m,\n",
                            "    \u001b[33munit_id\u001b[0m=\u001b[1;35mShapedArray\u001b[0m\u001b[1m(\u001b[0mint16\u001b[1m[\u001b[0m\u001b[1;36m2\u001b[0m,\u001b[1;36m200\u001b[0m\u001b[1m]\u001b[0m\u001b[1m)\u001b[0m,\n",
                            "    \u001b[33mpos\u001b[0m=\u001b[1;35mPosition\u001b[0m\u001b[1m(\u001b[0m\u001b[33mpos\u001b[0m=\u001b[1;35mShapedArray\u001b[0m\u001b[1m(\u001b[0mint8\u001b[1m[\u001b[0m\u001b[1;36m2\u001b[0m,\u001b[1;36m200\u001b[0m,\u001b[1;36m2\u001b[0m\u001b[1m]\u001b[0m\u001b[1m)\u001b[0m\u001b[1m)\u001b[0m,\n",
                            "    \u001b[33mcargo\u001b[0m=\u001b[1;35mUnitCargo\u001b[0m\u001b[1m(\u001b[0m\u001b[33mstock\u001b[0m=\u001b[1;35mShapedArray\u001b[0m\u001b[1m(\u001b[0mint32\u001b[1m[\u001b[0m\u001b[1;36m2\u001b[0m,\u001b[1;36m200\u001b[0m,\u001b[1;36m4\u001b[0m\u001b[1m]\u001b[0m\u001b[1m)\u001b[0m\u001b[1m)\u001b[0m,\n",
                            "    \u001b[33mpower\u001b[0m=\u001b[1;35mShapedArray\u001b[0m\u001b[1m(\u001b[0mint32\u001b[1m[\u001b[0m\u001b[1;36m2\u001b[0m,\u001b[1;36m200\u001b[0m\u001b[1m]\u001b[0m\u001b[1m)\u001b[0m\n",
                            "\u001b[1m)\u001b[0m\n"
                        ]
                    },
                    "metadata": {},
                    "output_type": "display_data"
                }
            ],
            "source": [
                "print(f\"{state.n_units = }\")\n",
                "rich.print(jux.tree_util.map_to_aval(state.units))"
            ]
        },
        {
            "cell_type": "markdown",
            "metadata": {},
            "source": [
                "## Understanding Robot Actions\n",
                "\n",
                "The whole actions system is designed upon three classes `UnitAction`, `ActionQueue` and `JuxActions`.\n",
                "1. `UnitAction`: the class representing single robot action.\n",
                "2. `ActionQueue`: a bi-directional queue storing a sequence of actions.\n",
                "3. `JuxActions`: a NamedTuple containing both actions for factories and robots, mainly used as input to `JuxEnv.step_late_game()`.\n"
            ]
        },
        {
            "attachments": {},
            "cell_type": "markdown",
            "metadata": {},
            "source": [
                "### UnitAction\n",
                "\n",
                "Actions of robots are represented by `UnitAction` objects. There are five fields in `UnitAction`:\n",
                "\n",
                "| fields          | dtype | description                                          |\n",
                "|:--------------- |:----- |:---------------------------------------------------- |\n",
                "| `action_type`   | int8  | indicates the action type.                           |\n",
                "| `direction`     | int8  | used in `MOVE` and `TRANSFER` actions.               |\n",
                "| `resource_type` | int8  | used in `PICKUP` and `TRANSFER` actions.             |\n",
                "| `amount`        | int16 | used in `PICKUP`, `TRANSFER` and `RECHARGE` actions. |\n",
                "| `repeat`        | int8  | used in all actions.                                 |\n",
                "| `n`             | int16 | used in all actions.                                 |"
            ]
        },
        {
            "cell_type": "code",
            "execution_count": 17,
            "metadata": {},
            "outputs": [
                {
                    "data": {
                        "text/html": [
                            "<pre style=\"white-space:pre;overflow-x:auto;line-height:normal;font-family:Menlo,'DejaVu Sans Mono',consolas,'Courier New',monospace\"><span style=\"color: #800080; text-decoration-color: #800080; font-weight: bold\">UnitAction</span><span style=\"font-weight: bold\">(</span>\n",
                            "    <span style=\"color: #808000; text-decoration-color: #808000\">action_type</span>=<span style=\"color: #800080; text-decoration-color: #800080; font-weight: bold\">DeviceArray</span><span style=\"font-weight: bold\">(</span><span style=\"color: #008080; text-decoration-color: #008080; font-weight: bold\">0</span>, <span style=\"color: #808000; text-decoration-color: #808000\">dtype</span>=<span style=\"color: #800080; text-decoration-color: #800080\">int8</span><span style=\"font-weight: bold\">)</span>,\n",
                            "    <span style=\"color: #808000; text-decoration-color: #808000\">direction</span>=<span style=\"color: #800080; text-decoration-color: #800080; font-weight: bold\">DeviceArray</span><span style=\"font-weight: bold\">(</span><span style=\"color: #008080; text-decoration-color: #008080; font-weight: bold\">1</span>, <span style=\"color: #808000; text-decoration-color: #808000\">dtype</span>=<span style=\"color: #800080; text-decoration-color: #800080\">int8</span><span style=\"font-weight: bold\">)</span>,\n",
                            "    <span style=\"color: #808000; text-decoration-color: #808000\">resource_type</span>=<span style=\"color: #800080; text-decoration-color: #800080; font-weight: bold\">DeviceArray</span><span style=\"font-weight: bold\">(</span><span style=\"color: #008080; text-decoration-color: #008080; font-weight: bold\">0</span>, <span style=\"color: #808000; text-decoration-color: #808000\">dtype</span>=<span style=\"color: #800080; text-decoration-color: #800080\">int8</span><span style=\"font-weight: bold\">)</span>,\n",
                            "    <span style=\"color: #808000; text-decoration-color: #808000\">amount</span>=<span style=\"color: #800080; text-decoration-color: #800080; font-weight: bold\">DeviceArray</span><span style=\"font-weight: bold\">(</span><span style=\"color: #008080; text-decoration-color: #008080; font-weight: bold\">0</span>, <span style=\"color: #808000; text-decoration-color: #808000\">dtype</span>=<span style=\"color: #800080; text-decoration-color: #800080\">int16</span><span style=\"font-weight: bold\">)</span>,\n",
                            "    <span style=\"color: #808000; text-decoration-color: #808000\">repeat</span>=<span style=\"color: #800080; text-decoration-color: #800080; font-weight: bold\">DeviceArray</span><span style=\"font-weight: bold\">(</span><span style=\"color: #008080; text-decoration-color: #008080; font-weight: bold\">0</span>, <span style=\"color: #808000; text-decoration-color: #808000\">dtype</span>=<span style=\"color: #800080; text-decoration-color: #800080\">int8</span><span style=\"font-weight: bold\">)</span>\n",
                            "<span style=\"font-weight: bold\">)</span>\n",
                            "</pre>\n"
                        ],
                        "text/plain": [
                            "\u001b[1;35mUnitAction\u001b[0m\u001b[1m(\u001b[0m\n",
                            "    \u001b[33maction_type\u001b[0m=\u001b[1;35mDeviceArray\u001b[0m\u001b[1m(\u001b[0m\u001b[1;36m0\u001b[0m, \u001b[33mdtype\u001b[0m=\u001b[35mint8\u001b[0m\u001b[1m)\u001b[0m,\n",
                            "    \u001b[33mdirection\u001b[0m=\u001b[1;35mDeviceArray\u001b[0m\u001b[1m(\u001b[0m\u001b[1;36m1\u001b[0m, \u001b[33mdtype\u001b[0m=\u001b[35mint8\u001b[0m\u001b[1m)\u001b[0m,\n",
                            "    \u001b[33mresource_type\u001b[0m=\u001b[1;35mDeviceArray\u001b[0m\u001b[1m(\u001b[0m\u001b[1;36m0\u001b[0m, \u001b[33mdtype\u001b[0m=\u001b[35mint8\u001b[0m\u001b[1m)\u001b[0m,\n",
                            "    \u001b[33mamount\u001b[0m=\u001b[1;35mDeviceArray\u001b[0m\u001b[1m(\u001b[0m\u001b[1;36m0\u001b[0m, \u001b[33mdtype\u001b[0m=\u001b[35mint16\u001b[0m\u001b[1m)\u001b[0m,\n",
                            "    \u001b[33mrepeat\u001b[0m=\u001b[1;35mDeviceArray\u001b[0m\u001b[1m(\u001b[0m\u001b[1;36m0\u001b[0m, \u001b[33mdtype\u001b[0m=\u001b[35mint8\u001b[0m\u001b[1m)\u001b[0m\n",
                            "\u001b[1m)\u001b[0m\n"
                        ]
                    },
                    "metadata": {},
                    "output_type": "display_data"
                }
            ],
            "source": [
                "from jux.map.position import Direction\n",
                "from jux.actions import UnitAction\n",
                "import rich\n",
                "\n",
                "move_action = UnitAction.move(Direction.UP, repeat=0)\n",
                "rich.print(move_action)"
            ]
        },
        {
            "cell_type": "markdown",
            "metadata": {},
            "source": [
                "`action_type` must be one of `UnitActionType`. There are 6 types of actions, numbered from 0 to 5. Note: `DO_NOTHING` (-1) is a special one, designed for internal use only. Users should not use it. "
            ]
        },
        {
            "cell_type": "code",
            "execution_count": 18,
            "metadata": {},
            "outputs": [
                {
                    "data": {
                        "text/plain": [
                            "{-1: <UnitActionType.DO_NOTHING: -1>,\n",
                            " 0: <UnitActionType.MOVE: 0>,\n",
                            " 1: <UnitActionType.TRANSFER: 1>,\n",
                            " 2: <UnitActionType.PICKUP: 2>,\n",
                            " 3: <UnitActionType.DIG: 3>,\n",
                            " 4: <UnitActionType.SELF_DESTRUCT: 4>,\n",
                            " 5: <UnitActionType.RECHARGE: 5>}"
                        ]
                    },
                    "execution_count": 18,
                    "metadata": {},
                    "output_type": "execute_result"
                }
            ],
            "source": [
                "from jux.actions import UnitActionType\n",
                "\n",
                "{int(a): a for a in UnitActionType}"
            ]
        },
        {
            "cell_type": "markdown",
            "metadata": {},
            "source": [
                "`direction` must be one of `Direction`. There are 5 directions, numbered from 0 to 4."
            ]
        },
        {
            "cell_type": "code",
            "execution_count": 19,
            "metadata": {},
            "outputs": [
                {
                    "data": {
                        "text/plain": [
                            "{0: <Direction.CENTER: 0>,\n",
                            " 1: <Direction.UP: 1>,\n",
                            " 2: <Direction.RIGHT: 2>,\n",
                            " 3: <Direction.DOWN: 3>,\n",
                            " 4: <Direction.LEFT: 4>}"
                        ]
                    },
                    "execution_count": 19,
                    "metadata": {},
                    "output_type": "execute_result"
                }
            ],
            "source": [
                "from jux.map.position import Direction\n",
                "\n",
                "{int(a): a for a in Direction}"
            ]
        },
        {
            "cell_type": "markdown",
            "metadata": {},
            "source": [
                "`resource_type` must be one of `ResourceType`. There are 4 types of resources, numbered from 0 to 3."
            ]
        },
        {
            "cell_type": "code",
            "execution_count": 20,
            "metadata": {},
            "outputs": [
                {
                    "data": {
                        "text/plain": [
                            "{0: <ResourceType.ice: 0>,\n",
                            " 1: <ResourceType.ore: 1>,\n",
                            " 2: <ResourceType.water: 2>,\n",
                            " 3: <ResourceType.metal: 3>,\n",
                            " 4: <ResourceType.power: 4>}"
                        ]
                    },
                    "execution_count": 20,
                    "metadata": {},
                    "output_type": "execute_result"
                }
            ],
            "source": [
                "from jux.unit_cargo import ResourceType\n",
                "\n",
                "{int(a): a for a in ResourceType}"
            ]
        },
        {
            "cell_type": "markdown",
            "metadata": {},
            "source": [
                "### Action Queue"
            ]
        },
        {
            "cell_type": "markdown",
            "metadata": {},
            "source": [
                "The most complicated part about `units` is its action queue. The action queue for single unit has following structure."
            ]
        },
        {
            "cell_type": "code",
            "execution_count": 21,
            "metadata": {},
            "outputs": [
                {
                    "data": {
                        "text/html": [
                            "<pre style=\"white-space:pre;overflow-x:auto;line-height:normal;font-family:Menlo,'DejaVu Sans Mono',consolas,'Courier New',monospace\"><span style=\"color: #800080; text-decoration-color: #800080; font-weight: bold\">ActionQueue</span><span style=\"font-weight: bold\">(</span>\n",
                            "    <span style=\"color: #808000; text-decoration-color: #808000\">data</span>=<span style=\"color: #800080; text-decoration-color: #800080; font-weight: bold\">UnitAction</span><span style=\"font-weight: bold\">(</span>\n",
                            "        <span style=\"color: #808000; text-decoration-color: #808000\">action_type</span>=<span style=\"color: #800080; text-decoration-color: #800080; font-weight: bold\">ShapedArray</span><span style=\"font-weight: bold\">(</span>int8<span style=\"font-weight: bold\">[</span><span style=\"color: #008080; text-decoration-color: #008080; font-weight: bold\">20</span><span style=\"font-weight: bold\">])</span>,\n",
                            "        <span style=\"color: #808000; text-decoration-color: #808000\">direction</span>=<span style=\"color: #800080; text-decoration-color: #800080; font-weight: bold\">ShapedArray</span><span style=\"font-weight: bold\">(</span>int8<span style=\"font-weight: bold\">[</span><span style=\"color: #008080; text-decoration-color: #008080; font-weight: bold\">20</span><span style=\"font-weight: bold\">])</span>,\n",
                            "        <span style=\"color: #808000; text-decoration-color: #808000\">resource_type</span>=<span style=\"color: #800080; text-decoration-color: #800080; font-weight: bold\">ShapedArray</span><span style=\"font-weight: bold\">(</span>int8<span style=\"font-weight: bold\">[</span><span style=\"color: #008080; text-decoration-color: #008080; font-weight: bold\">20</span><span style=\"font-weight: bold\">])</span>,\n",
                            "        <span style=\"color: #808000; text-decoration-color: #808000\">amount</span>=<span style=\"color: #800080; text-decoration-color: #800080; font-weight: bold\">ShapedArray</span><span style=\"font-weight: bold\">(</span>int16<span style=\"font-weight: bold\">[</span><span style=\"color: #008080; text-decoration-color: #008080; font-weight: bold\">20</span><span style=\"font-weight: bold\">])</span>,\n",
                            "        <span style=\"color: #808000; text-decoration-color: #808000\">repeat</span>=<span style=\"color: #800080; text-decoration-color: #800080; font-weight: bold\">ShapedArray</span><span style=\"font-weight: bold\">(</span>int8<span style=\"font-weight: bold\">[</span><span style=\"color: #008080; text-decoration-color: #008080; font-weight: bold\">20</span><span style=\"font-weight: bold\">])</span>\n",
                            "    <span style=\"font-weight: bold\">)</span>,\n",
                            "    <span style=\"color: #808000; text-decoration-color: #808000\">front</span>=<span style=\"color: #800080; text-decoration-color: #800080; font-weight: bold\">ShapedArray</span><span style=\"font-weight: bold\">(</span>int8<span style=\"font-weight: bold\">[])</span>,\n",
                            "    <span style=\"color: #808000; text-decoration-color: #808000\">rear</span>=<span style=\"color: #800080; text-decoration-color: #800080; font-weight: bold\">ShapedArray</span><span style=\"font-weight: bold\">(</span>int8<span style=\"font-weight: bold\">[])</span>,\n",
                            "    <span style=\"color: #808000; text-decoration-color: #808000\">count</span>=<span style=\"color: #800080; text-decoration-color: #800080; font-weight: bold\">ShapedArray</span><span style=\"font-weight: bold\">(</span>int8<span style=\"font-weight: bold\">[])</span>\n",
                            "<span style=\"font-weight: bold\">)</span>\n",
                            "</pre>\n"
                        ],
                        "text/plain": [
                            "\u001b[1;35mActionQueue\u001b[0m\u001b[1m(\u001b[0m\n",
                            "    \u001b[33mdata\u001b[0m=\u001b[1;35mUnitAction\u001b[0m\u001b[1m(\u001b[0m\n",
                            "        \u001b[33maction_type\u001b[0m=\u001b[1;35mShapedArray\u001b[0m\u001b[1m(\u001b[0mint8\u001b[1m[\u001b[0m\u001b[1;36m20\u001b[0m\u001b[1m]\u001b[0m\u001b[1m)\u001b[0m,\n",
                            "        \u001b[33mdirection\u001b[0m=\u001b[1;35mShapedArray\u001b[0m\u001b[1m(\u001b[0mint8\u001b[1m[\u001b[0m\u001b[1;36m20\u001b[0m\u001b[1m]\u001b[0m\u001b[1m)\u001b[0m,\n",
                            "        \u001b[33mresource_type\u001b[0m=\u001b[1;35mShapedArray\u001b[0m\u001b[1m(\u001b[0mint8\u001b[1m[\u001b[0m\u001b[1;36m20\u001b[0m\u001b[1m]\u001b[0m\u001b[1m)\u001b[0m,\n",
                            "        \u001b[33mamount\u001b[0m=\u001b[1;35mShapedArray\u001b[0m\u001b[1m(\u001b[0mint16\u001b[1m[\u001b[0m\u001b[1;36m20\u001b[0m\u001b[1m]\u001b[0m\u001b[1m)\u001b[0m,\n",
                            "        \u001b[33mrepeat\u001b[0m=\u001b[1;35mShapedArray\u001b[0m\u001b[1m(\u001b[0mint8\u001b[1m[\u001b[0m\u001b[1;36m20\u001b[0m\u001b[1m]\u001b[0m\u001b[1m)\u001b[0m\n",
                            "    \u001b[1m)\u001b[0m,\n",
                            "    \u001b[33mfront\u001b[0m=\u001b[1;35mShapedArray\u001b[0m\u001b[1m(\u001b[0mint8\u001b[1m[\u001b[0m\u001b[1m]\u001b[0m\u001b[1m)\u001b[0m,\n",
                            "    \u001b[33mrear\u001b[0m=\u001b[1;35mShapedArray\u001b[0m\u001b[1m(\u001b[0mint8\u001b[1m[\u001b[0m\u001b[1m]\u001b[0m\u001b[1m)\u001b[0m,\n",
                            "    \u001b[33mcount\u001b[0m=\u001b[1;35mShapedArray\u001b[0m\u001b[1m(\u001b[0mint8\u001b[1m[\u001b[0m\u001b[1m]\u001b[0m\u001b[1m)\u001b[0m\n",
                            "\u001b[1m)\u001b[0m\n"
                        ]
                    },
                    "metadata": {},
                    "output_type": "display_data"
                }
            ],
            "source": [
                "from jux.actions import ActionQueue\n",
                "action_queue = ActionQueue.empty(capacity=state.env_cfg.UNIT_ACTION_QUEUE_SIZE)\n",
                "rich.print(jux.tree_util.map_to_aval(action_queue))"
            ]
        },
        {
            "cell_type": "markdown",
            "metadata": {},
            "source": [
                "Units' actions are stored in `state.units.action_queue`, which is a bi-directional queue implemented in jax. `ActionQueue` has four fields: `data`, `count`, `front`, and `rear`. \n",
                "1. `data` is a `UnitAction` object, containing `UNIT_ACTION_QUEUE_SIZE` actions in attribute-first layout, so its attributes have a leading dimension of `UNIT_ACTION_QUEUE_SIZE`.\n",
                "2. `count` indicates the number of actions in the queue.\n",
                "3. `front` is the index of the first action in the queue. \n",
                "4. `rear` is the index of the first empty slot in the queue, which is also the position for next push back. `(rear - 1) % capacity` is the index of the last action in the queue."
            ]
        },
        {
            "cell_type": "markdown",
            "metadata": {},
            "source": [
                "Above is the structure of action queue for a single unit. Now, let's have a look at `state.units.action_queue`, which contains the action queue for all units. The main difference is that all leaves are added with two leading dimensions of `(2, MAX_N_UNITS)`. Again, this is because we use attribute-first layout."
            ]
        },
        {
            "cell_type": "code",
            "execution_count": 22,
            "metadata": {},
            "outputs": [
                {
                    "data": {
                        "text/html": [
                            "<pre style=\"white-space:pre;overflow-x:auto;line-height:normal;font-family:Menlo,'DejaVu Sans Mono',consolas,'Courier New',monospace\"><span style=\"color: #800080; text-decoration-color: #800080; font-weight: bold\">ActionQueue</span><span style=\"font-weight: bold\">(</span>\n",
                            "    <span style=\"color: #808000; text-decoration-color: #808000\">data</span>=<span style=\"color: #800080; text-decoration-color: #800080; font-weight: bold\">UnitAction</span><span style=\"font-weight: bold\">(</span>\n",
                            "        <span style=\"color: #808000; text-decoration-color: #808000\">action_type</span>=<span style=\"color: #800080; text-decoration-color: #800080; font-weight: bold\">ShapedArray</span><span style=\"font-weight: bold\">(</span>int8<span style=\"font-weight: bold\">[</span><span style=\"color: #008080; text-decoration-color: #008080; font-weight: bold\">2</span>,<span style=\"color: #008080; text-decoration-color: #008080; font-weight: bold\">200</span>,<span style=\"color: #008080; text-decoration-color: #008080; font-weight: bold\">20</span><span style=\"font-weight: bold\">])</span>,\n",
                            "        <span style=\"color: #808000; text-decoration-color: #808000\">direction</span>=<span style=\"color: #800080; text-decoration-color: #800080; font-weight: bold\">ShapedArray</span><span style=\"font-weight: bold\">(</span>int8<span style=\"font-weight: bold\">[</span><span style=\"color: #008080; text-decoration-color: #008080; font-weight: bold\">2</span>,<span style=\"color: #008080; text-decoration-color: #008080; font-weight: bold\">200</span>,<span style=\"color: #008080; text-decoration-color: #008080; font-weight: bold\">20</span><span style=\"font-weight: bold\">])</span>,\n",
                            "        <span style=\"color: #808000; text-decoration-color: #808000\">resource_type</span>=<span style=\"color: #800080; text-decoration-color: #800080; font-weight: bold\">ShapedArray</span><span style=\"font-weight: bold\">(</span>int8<span style=\"font-weight: bold\">[</span><span style=\"color: #008080; text-decoration-color: #008080; font-weight: bold\">2</span>,<span style=\"color: #008080; text-decoration-color: #008080; font-weight: bold\">200</span>,<span style=\"color: #008080; text-decoration-color: #008080; font-weight: bold\">20</span><span style=\"font-weight: bold\">])</span>,\n",
                            "        <span style=\"color: #808000; text-decoration-color: #808000\">amount</span>=<span style=\"color: #800080; text-decoration-color: #800080; font-weight: bold\">ShapedArray</span><span style=\"font-weight: bold\">(</span>int16<span style=\"font-weight: bold\">[</span><span style=\"color: #008080; text-decoration-color: #008080; font-weight: bold\">2</span>,<span style=\"color: #008080; text-decoration-color: #008080; font-weight: bold\">200</span>,<span style=\"color: #008080; text-decoration-color: #008080; font-weight: bold\">20</span><span style=\"font-weight: bold\">])</span>,\n",
                            "        <span style=\"color: #808000; text-decoration-color: #808000\">repeat</span>=<span style=\"color: #800080; text-decoration-color: #800080; font-weight: bold\">ShapedArray</span><span style=\"font-weight: bold\">(</span>int8<span style=\"font-weight: bold\">[</span><span style=\"color: #008080; text-decoration-color: #008080; font-weight: bold\">2</span>,<span style=\"color: #008080; text-decoration-color: #008080; font-weight: bold\">200</span>,<span style=\"color: #008080; text-decoration-color: #008080; font-weight: bold\">20</span><span style=\"font-weight: bold\">])</span>\n",
                            "    <span style=\"font-weight: bold\">)</span>,\n",
                            "    <span style=\"color: #808000; text-decoration-color: #808000\">front</span>=<span style=\"color: #800080; text-decoration-color: #800080; font-weight: bold\">ShapedArray</span><span style=\"font-weight: bold\">(</span>int8<span style=\"font-weight: bold\">[</span><span style=\"color: #008080; text-decoration-color: #008080; font-weight: bold\">2</span>,<span style=\"color: #008080; text-decoration-color: #008080; font-weight: bold\">200</span><span style=\"font-weight: bold\">])</span>,\n",
                            "    <span style=\"color: #808000; text-decoration-color: #808000\">rear</span>=<span style=\"color: #800080; text-decoration-color: #800080; font-weight: bold\">ShapedArray</span><span style=\"font-weight: bold\">(</span>int8<span style=\"font-weight: bold\">[</span><span style=\"color: #008080; text-decoration-color: #008080; font-weight: bold\">2</span>,<span style=\"color: #008080; text-decoration-color: #008080; font-weight: bold\">200</span><span style=\"font-weight: bold\">])</span>,\n",
                            "    <span style=\"color: #808000; text-decoration-color: #808000\">count</span>=<span style=\"color: #800080; text-decoration-color: #800080; font-weight: bold\">ShapedArray</span><span style=\"font-weight: bold\">(</span>int8<span style=\"font-weight: bold\">[</span><span style=\"color: #008080; text-decoration-color: #008080; font-weight: bold\">2</span>,<span style=\"color: #008080; text-decoration-color: #008080; font-weight: bold\">200</span><span style=\"font-weight: bold\">])</span>\n",
                            "<span style=\"font-weight: bold\">)</span>\n",
                            "</pre>\n"
                        ],
                        "text/plain": [
                            "\u001b[1;35mActionQueue\u001b[0m\u001b[1m(\u001b[0m\n",
                            "    \u001b[33mdata\u001b[0m=\u001b[1;35mUnitAction\u001b[0m\u001b[1m(\u001b[0m\n",
                            "        \u001b[33maction_type\u001b[0m=\u001b[1;35mShapedArray\u001b[0m\u001b[1m(\u001b[0mint8\u001b[1m[\u001b[0m\u001b[1;36m2\u001b[0m,\u001b[1;36m200\u001b[0m,\u001b[1;36m20\u001b[0m\u001b[1m]\u001b[0m\u001b[1m)\u001b[0m,\n",
                            "        \u001b[33mdirection\u001b[0m=\u001b[1;35mShapedArray\u001b[0m\u001b[1m(\u001b[0mint8\u001b[1m[\u001b[0m\u001b[1;36m2\u001b[0m,\u001b[1;36m200\u001b[0m,\u001b[1;36m20\u001b[0m\u001b[1m]\u001b[0m\u001b[1m)\u001b[0m,\n",
                            "        \u001b[33mresource_type\u001b[0m=\u001b[1;35mShapedArray\u001b[0m\u001b[1m(\u001b[0mint8\u001b[1m[\u001b[0m\u001b[1;36m2\u001b[0m,\u001b[1;36m200\u001b[0m,\u001b[1;36m20\u001b[0m\u001b[1m]\u001b[0m\u001b[1m)\u001b[0m,\n",
                            "        \u001b[33mamount\u001b[0m=\u001b[1;35mShapedArray\u001b[0m\u001b[1m(\u001b[0mint16\u001b[1m[\u001b[0m\u001b[1;36m2\u001b[0m,\u001b[1;36m200\u001b[0m,\u001b[1;36m20\u001b[0m\u001b[1m]\u001b[0m\u001b[1m)\u001b[0m,\n",
                            "        \u001b[33mrepeat\u001b[0m=\u001b[1;35mShapedArray\u001b[0m\u001b[1m(\u001b[0mint8\u001b[1m[\u001b[0m\u001b[1;36m2\u001b[0m,\u001b[1;36m200\u001b[0m,\u001b[1;36m20\u001b[0m\u001b[1m]\u001b[0m\u001b[1m)\u001b[0m\n",
                            "    \u001b[1m)\u001b[0m,\n",
                            "    \u001b[33mfront\u001b[0m=\u001b[1;35mShapedArray\u001b[0m\u001b[1m(\u001b[0mint8\u001b[1m[\u001b[0m\u001b[1;36m2\u001b[0m,\u001b[1;36m200\u001b[0m\u001b[1m]\u001b[0m\u001b[1m)\u001b[0m,\n",
                            "    \u001b[33mrear\u001b[0m=\u001b[1;35mShapedArray\u001b[0m\u001b[1m(\u001b[0mint8\u001b[1m[\u001b[0m\u001b[1;36m2\u001b[0m,\u001b[1;36m200\u001b[0m\u001b[1m]\u001b[0m\u001b[1m)\u001b[0m,\n",
                            "    \u001b[33mcount\u001b[0m=\u001b[1;35mShapedArray\u001b[0m\u001b[1m(\u001b[0mint8\u001b[1m[\u001b[0m\u001b[1;36m2\u001b[0m,\u001b[1;36m200\u001b[0m\u001b[1m]\u001b[0m\u001b[1m)\u001b[0m\n",
                            "\u001b[1m)\u001b[0m\n"
                        ]
                    },
                    "metadata": {},
                    "output_type": "display_data"
                }
            ],
            "source": [
                "rich.print(jux.tree_util.map_to_aval(state.units.action_queue))"
            ]
        },
        {
            "cell_type": "markdown",
            "metadata": {},
            "source": [
                "`ActionQueue` provides several useful methods, such as `push_back()`, `push_front()`, `pop()` and `peek()`. However, all these methods can only be applied to the queues of a single unit. `state.units.action_queue` has two batch dimension, one for player, one for units, so we need to `vmap` these methods two times. The following code shows how to peek the next actions of all units. The returned `act` contains the next actions of all units, again, in attribute-first layout."
            ]
        },
        {
            "cell_type": "code",
            "execution_count": 23,
            "metadata": {},
            "outputs": [
                {
                    "data": {
                        "text/html": [
                            "<pre style=\"white-space:pre;overflow-x:auto;line-height:normal;font-family:Menlo,'DejaVu Sans Mono',consolas,'Courier New',monospace\"><span style=\"color: #800080; text-decoration-color: #800080; font-weight: bold\">UnitAction</span><span style=\"font-weight: bold\">(</span>\n",
                            "    <span style=\"color: #808000; text-decoration-color: #808000\">action_type</span>=<span style=\"color: #800080; text-decoration-color: #800080; font-weight: bold\">ShapedArray</span><span style=\"font-weight: bold\">(</span>int8<span style=\"font-weight: bold\">[</span><span style=\"color: #008080; text-decoration-color: #008080; font-weight: bold\">2</span>,<span style=\"color: #008080; text-decoration-color: #008080; font-weight: bold\">200</span><span style=\"font-weight: bold\">])</span>,\n",
                            "    <span style=\"color: #808000; text-decoration-color: #808000\">direction</span>=<span style=\"color: #800080; text-decoration-color: #800080; font-weight: bold\">ShapedArray</span><span style=\"font-weight: bold\">(</span>int8<span style=\"font-weight: bold\">[</span><span style=\"color: #008080; text-decoration-color: #008080; font-weight: bold\">2</span>,<span style=\"color: #008080; text-decoration-color: #008080; font-weight: bold\">200</span><span style=\"font-weight: bold\">])</span>,\n",
                            "    <span style=\"color: #808000; text-decoration-color: #808000\">resource_type</span>=<span style=\"color: #800080; text-decoration-color: #800080; font-weight: bold\">ShapedArray</span><span style=\"font-weight: bold\">(</span>int8<span style=\"font-weight: bold\">[</span><span style=\"color: #008080; text-decoration-color: #008080; font-weight: bold\">2</span>,<span style=\"color: #008080; text-decoration-color: #008080; font-weight: bold\">200</span><span style=\"font-weight: bold\">])</span>,\n",
                            "    <span style=\"color: #808000; text-decoration-color: #808000\">amount</span>=<span style=\"color: #800080; text-decoration-color: #800080; font-weight: bold\">ShapedArray</span><span style=\"font-weight: bold\">(</span>int16<span style=\"font-weight: bold\">[</span><span style=\"color: #008080; text-decoration-color: #008080; font-weight: bold\">2</span>,<span style=\"color: #008080; text-decoration-color: #008080; font-weight: bold\">200</span><span style=\"font-weight: bold\">])</span>,\n",
                            "    <span style=\"color: #808000; text-decoration-color: #808000\">repeat</span>=<span style=\"color: #800080; text-decoration-color: #800080; font-weight: bold\">ShapedArray</span><span style=\"font-weight: bold\">(</span>int8<span style=\"font-weight: bold\">[</span><span style=\"color: #008080; text-decoration-color: #008080; font-weight: bold\">2</span>,<span style=\"color: #008080; text-decoration-color: #008080; font-weight: bold\">200</span><span style=\"font-weight: bold\">])</span>\n",
                            "<span style=\"font-weight: bold\">)</span>\n",
                            "</pre>\n"
                        ],
                        "text/plain": [
                            "\u001b[1;35mUnitAction\u001b[0m\u001b[1m(\u001b[0m\n",
                            "    \u001b[33maction_type\u001b[0m=\u001b[1;35mShapedArray\u001b[0m\u001b[1m(\u001b[0mint8\u001b[1m[\u001b[0m\u001b[1;36m2\u001b[0m,\u001b[1;36m200\u001b[0m\u001b[1m]\u001b[0m\u001b[1m)\u001b[0m,\n",
                            "    \u001b[33mdirection\u001b[0m=\u001b[1;35mShapedArray\u001b[0m\u001b[1m(\u001b[0mint8\u001b[1m[\u001b[0m\u001b[1;36m2\u001b[0m,\u001b[1;36m200\u001b[0m\u001b[1m]\u001b[0m\u001b[1m)\u001b[0m,\n",
                            "    \u001b[33mresource_type\u001b[0m=\u001b[1;35mShapedArray\u001b[0m\u001b[1m(\u001b[0mint8\u001b[1m[\u001b[0m\u001b[1;36m2\u001b[0m,\u001b[1;36m200\u001b[0m\u001b[1m]\u001b[0m\u001b[1m)\u001b[0m,\n",
                            "    \u001b[33mamount\u001b[0m=\u001b[1;35mShapedArray\u001b[0m\u001b[1m(\u001b[0mint16\u001b[1m[\u001b[0m\u001b[1;36m2\u001b[0m,\u001b[1;36m200\u001b[0m\u001b[1m]\u001b[0m\u001b[1m)\u001b[0m,\n",
                            "    \u001b[33mrepeat\u001b[0m=\u001b[1;35mShapedArray\u001b[0m\u001b[1m(\u001b[0mint8\u001b[1m[\u001b[0m\u001b[1;36m2\u001b[0m,\u001b[1;36m200\u001b[0m\u001b[1m]\u001b[0m\u001b[1m)\u001b[0m\n",
                            "\u001b[1m)\u001b[0m\n"
                        ]
                    },
                    "metadata": {},
                    "output_type": "display_data"
                }
            ],
            "source": [
                "from jux.actions import ActionQueue\n",
                "import jax\n",
                "peek_vmap_vmap = jax.vmap(jax.vmap(ActionQueue.peek))\n",
                "act = peek_vmap_vmap(state.units.action_queue)\n",
                "rich.print(jux.tree_util.map_to_aval(act))"
            ]
        },
        {
            "cell_type": "markdown",
            "metadata": {},
            "source": [
                "### JuxAction\n",
                "\n",
                "`JuxAction` is a NamedTuple containing both actions for factories and robots, mainly used as input to `JuxEnv.step_late_game()`. It has four fields: `factory_actions`, `unit_action_queue`, `unit_action_queue_count` and `unit_action_queue_update`.\n",
                "1. `factory_actions`: the actions for each factories.\n",
                "2. `unit_action_queue_update`: a boolean array indicating whether a unit's action queue should be updated or not in this turn.\n",
                "3. `unit_action_queue`: What actions will be in the new action queue, If update.\n",
                "4. `unit_action_queue_count`: How many actions will there be in the new action queue, if update."
            ]
        },
        {
            "cell_type": "code",
            "execution_count": 24,
            "metadata": {},
            "outputs": [
                {
                    "data": {
                        "text/html": [
                            "<pre style=\"white-space:pre;overflow-x:auto;line-height:normal;font-family:Menlo,'DejaVu Sans Mono',consolas,'Courier New',monospace\"><span style=\"color: #800080; text-decoration-color: #800080; font-weight: bold\">JuxAction</span><span style=\"font-weight: bold\">(</span>\n",
                            "    <span style=\"color: #808000; text-decoration-color: #808000\">factory_action</span>=<span style=\"color: #800080; text-decoration-color: #800080; font-weight: bold\">ShapedArray</span><span style=\"font-weight: bold\">(</span>int8<span style=\"font-weight: bold\">[</span><span style=\"color: #008080; text-decoration-color: #008080; font-weight: bold\">2</span>,<span style=\"color: #008080; text-decoration-color: #008080; font-weight: bold\">6</span><span style=\"font-weight: bold\">])</span>,\n",
                            "    <span style=\"color: #808000; text-decoration-color: #808000\">unit_action_queue</span>=<span style=\"color: #800080; text-decoration-color: #800080; font-weight: bold\">UnitAction</span><span style=\"font-weight: bold\">(</span>\n",
                            "        <span style=\"color: #808000; text-decoration-color: #808000\">action_type</span>=<span style=\"color: #800080; text-decoration-color: #800080; font-weight: bold\">ShapedArray</span><span style=\"font-weight: bold\">(</span>int8<span style=\"font-weight: bold\">[</span><span style=\"color: #008080; text-decoration-color: #008080; font-weight: bold\">2</span>,<span style=\"color: #008080; text-decoration-color: #008080; font-weight: bold\">200</span>,<span style=\"color: #008080; text-decoration-color: #008080; font-weight: bold\">20</span><span style=\"font-weight: bold\">])</span>,\n",
                            "        <span style=\"color: #808000; text-decoration-color: #808000\">direction</span>=<span style=\"color: #800080; text-decoration-color: #800080; font-weight: bold\">ShapedArray</span><span style=\"font-weight: bold\">(</span>int8<span style=\"font-weight: bold\">[</span><span style=\"color: #008080; text-decoration-color: #008080; font-weight: bold\">2</span>,<span style=\"color: #008080; text-decoration-color: #008080; font-weight: bold\">200</span>,<span style=\"color: #008080; text-decoration-color: #008080; font-weight: bold\">20</span><span style=\"font-weight: bold\">])</span>,\n",
                            "        <span style=\"color: #808000; text-decoration-color: #808000\">resource_type</span>=<span style=\"color: #800080; text-decoration-color: #800080; font-weight: bold\">ShapedArray</span><span style=\"font-weight: bold\">(</span>int8<span style=\"font-weight: bold\">[</span><span style=\"color: #008080; text-decoration-color: #008080; font-weight: bold\">2</span>,<span style=\"color: #008080; text-decoration-color: #008080; font-weight: bold\">200</span>,<span style=\"color: #008080; text-decoration-color: #008080; font-weight: bold\">20</span><span style=\"font-weight: bold\">])</span>,\n",
                            "        <span style=\"color: #808000; text-decoration-color: #808000\">amount</span>=<span style=\"color: #800080; text-decoration-color: #800080; font-weight: bold\">ShapedArray</span><span style=\"font-weight: bold\">(</span>int16<span style=\"font-weight: bold\">[</span><span style=\"color: #008080; text-decoration-color: #008080; font-weight: bold\">2</span>,<span style=\"color: #008080; text-decoration-color: #008080; font-weight: bold\">200</span>,<span style=\"color: #008080; text-decoration-color: #008080; font-weight: bold\">20</span><span style=\"font-weight: bold\">])</span>,\n",
                            "        <span style=\"color: #808000; text-decoration-color: #808000\">repeat</span>=<span style=\"color: #800080; text-decoration-color: #800080; font-weight: bold\">ShapedArray</span><span style=\"font-weight: bold\">(</span>int8<span style=\"font-weight: bold\">[</span><span style=\"color: #008080; text-decoration-color: #008080; font-weight: bold\">2</span>,<span style=\"color: #008080; text-decoration-color: #008080; font-weight: bold\">200</span>,<span style=\"color: #008080; text-decoration-color: #008080; font-weight: bold\">20</span><span style=\"font-weight: bold\">])</span>\n",
                            "    <span style=\"font-weight: bold\">)</span>,\n",
                            "    <span style=\"color: #808000; text-decoration-color: #808000\">unit_action_queue_count</span>=<span style=\"color: #800080; text-decoration-color: #800080; font-weight: bold\">ShapedArray</span><span style=\"font-weight: bold\">(</span>int8<span style=\"font-weight: bold\">[</span><span style=\"color: #008080; text-decoration-color: #008080; font-weight: bold\">2</span>,<span style=\"color: #008080; text-decoration-color: #008080; font-weight: bold\">200</span><span style=\"font-weight: bold\">])</span>,\n",
                            "    <span style=\"color: #808000; text-decoration-color: #808000\">unit_action_queue_update</span>=<span style=\"color: #800080; text-decoration-color: #800080; font-weight: bold\">ShapedArray</span><span style=\"font-weight: bold\">(</span>bool<span style=\"font-weight: bold\">[</span><span style=\"color: #008080; text-decoration-color: #008080; font-weight: bold\">2</span>,<span style=\"color: #008080; text-decoration-color: #008080; font-weight: bold\">200</span><span style=\"font-weight: bold\">])</span>\n",
                            "<span style=\"font-weight: bold\">)</span>\n",
                            "</pre>\n"
                        ],
                        "text/plain": [
                            "\u001b[1;35mJuxAction\u001b[0m\u001b[1m(\u001b[0m\n",
                            "    \u001b[33mfactory_action\u001b[0m=\u001b[1;35mShapedArray\u001b[0m\u001b[1m(\u001b[0mint8\u001b[1m[\u001b[0m\u001b[1;36m2\u001b[0m,\u001b[1;36m6\u001b[0m\u001b[1m]\u001b[0m\u001b[1m)\u001b[0m,\n",
                            "    \u001b[33munit_action_queue\u001b[0m=\u001b[1;35mUnitAction\u001b[0m\u001b[1m(\u001b[0m\n",
                            "        \u001b[33maction_type\u001b[0m=\u001b[1;35mShapedArray\u001b[0m\u001b[1m(\u001b[0mint8\u001b[1m[\u001b[0m\u001b[1;36m2\u001b[0m,\u001b[1;36m200\u001b[0m,\u001b[1;36m20\u001b[0m\u001b[1m]\u001b[0m\u001b[1m)\u001b[0m,\n",
                            "        \u001b[33mdirection\u001b[0m=\u001b[1;35mShapedArray\u001b[0m\u001b[1m(\u001b[0mint8\u001b[1m[\u001b[0m\u001b[1;36m2\u001b[0m,\u001b[1;36m200\u001b[0m,\u001b[1;36m20\u001b[0m\u001b[1m]\u001b[0m\u001b[1m)\u001b[0m,\n",
                            "        \u001b[33mresource_type\u001b[0m=\u001b[1;35mShapedArray\u001b[0m\u001b[1m(\u001b[0mint8\u001b[1m[\u001b[0m\u001b[1;36m2\u001b[0m,\u001b[1;36m200\u001b[0m,\u001b[1;36m20\u001b[0m\u001b[1m]\u001b[0m\u001b[1m)\u001b[0m,\n",
                            "        \u001b[33mamount\u001b[0m=\u001b[1;35mShapedArray\u001b[0m\u001b[1m(\u001b[0mint16\u001b[1m[\u001b[0m\u001b[1;36m2\u001b[0m,\u001b[1;36m200\u001b[0m,\u001b[1;36m20\u001b[0m\u001b[1m]\u001b[0m\u001b[1m)\u001b[0m,\n",
                            "        \u001b[33mrepeat\u001b[0m=\u001b[1;35mShapedArray\u001b[0m\u001b[1m(\u001b[0mint8\u001b[1m[\u001b[0m\u001b[1;36m2\u001b[0m,\u001b[1;36m200\u001b[0m,\u001b[1;36m20\u001b[0m\u001b[1m]\u001b[0m\u001b[1m)\u001b[0m\n",
                            "    \u001b[1m)\u001b[0m,\n",
                            "    \u001b[33munit_action_queue_count\u001b[0m=\u001b[1;35mShapedArray\u001b[0m\u001b[1m(\u001b[0mint8\u001b[1m[\u001b[0m\u001b[1;36m2\u001b[0m,\u001b[1;36m200\u001b[0m\u001b[1m]\u001b[0m\u001b[1m)\u001b[0m,\n",
                            "    \u001b[33munit_action_queue_update\u001b[0m=\u001b[1;35mShapedArray\u001b[0m\u001b[1m(\u001b[0mbool\u001b[1m[\u001b[0m\u001b[1;36m2\u001b[0m,\u001b[1;36m200\u001b[0m\u001b[1m]\u001b[0m\u001b[1m)\u001b[0m\n",
                            "\u001b[1m)\u001b[0m\n"
                        ]
                    },
                    "metadata": {},
                    "output_type": "display_data"
                }
            ],
            "source": [
                "jux_act = JuxAction.from_lux(state, lux_act)\n",
                "rich.print(jux.tree_util.map_to_aval(jux_act))"
            ]
        },
        {
            "cell_type": "markdown",
            "metadata": {},
            "source": [
                "There are four types of actions for factories: `DO_NOTHING`, `BUILD_LIGHT`, `BUILD_HEAVY` and `WATER`, numbered from -1 to 2."
            ]
        },
        {
            "cell_type": "code",
            "execution_count": 25,
            "metadata": {},
            "outputs": [
                {
                    "data": {
                        "text/plain": [
                            "{-1: <FactoryAction.DO_NOTHING: -1>,\n",
                            " 0: <FactoryAction.BUILD_LIGHT: 0>,\n",
                            " 1: <FactoryAction.BUILD_HEAVY: 1>,\n",
                            " 2: <FactoryAction.WATER: 2>}"
                        ]
                    },
                    "execution_count": 25,
                    "metadata": {},
                    "output_type": "execute_result"
                }
            ],
            "source": [
                "from jux.actions import FactoryAction\n",
                "\n",
                "{int(a): a for a in FactoryAction}"
            ]
        },
        {
            "cell_type": "markdown",
            "metadata": {},
            "source": [
                "## Run a Batch of Environments\n",
                "Running a single environment cannot take full advantage of the power of modern GPU. This section will show you how to run a batch of environments at once. We first create a `JuxEnvBatch` object."
            ]
        },
        {
            "cell_type": "code",
            "execution_count": 26,
            "metadata": {},
            "outputs": [],
            "source": [
                "from jux.env import JuxEnvBatch\n",
                "\n",
                "jux_env_batch = JuxEnvBatch(buf_cfg=JuxBufferConfig(MAX_N_UNITS=200))"
            ]
        },
        {
            "cell_type": "markdown",
            "metadata": {},
            "source": [
                "Then, reset the environment to get initial states. Instead of passing in a single seed, we pass in a batch of seeds. The batch size is determined by the size of the seed array."
            ]
        },
        {
            "cell_type": "code",
            "execution_count": 27,
            "metadata": {},
            "outputs": [],
            "source": [
                "import jax.numpy as jnp\n",
                "\n",
                "batch_size = 10\n",
                "seeds = jnp.arange(batch_size)\n",
                "\n",
                "states = jux_env_batch.reset(seeds)"
            ]
        },
        {
            "cell_type": "markdown",
            "metadata": {},
            "source": [
                "According to our attribute-first memory layout, states is still a `State` object, but all leaves are added with a leading dimension of `batch_size`."
            ]
        },
        {
            "cell_type": "code",
            "execution_count": 28,
            "metadata": {},
            "outputs": [
                {
                    "data": {
                        "text/html": [
                            "<pre style=\"white-space:pre;overflow-x:auto;line-height:normal;font-family:Menlo,'DejaVu Sans Mono',consolas,'Courier New',monospace\"><span style=\"color: #800080; text-decoration-color: #800080; font-weight: bold\">Factory</span><span style=\"font-weight: bold\">(</span>\n",
                            "    <span style=\"color: #808000; text-decoration-color: #808000\">team_id</span>=<span style=\"color: #800080; text-decoration-color: #800080; font-weight: bold\">ShapedArray</span><span style=\"font-weight: bold\">(</span>int8<span style=\"font-weight: bold\">[</span><span style=\"color: #008080; text-decoration-color: #008080; font-weight: bold\">10</span>,<span style=\"color: #008080; text-decoration-color: #008080; font-weight: bold\">2</span>,<span style=\"color: #008080; text-decoration-color: #008080; font-weight: bold\">6</span><span style=\"font-weight: bold\">])</span>,\n",
                            "    <span style=\"color: #808000; text-decoration-color: #808000\">unit_id</span>=<span style=\"color: #800080; text-decoration-color: #800080; font-weight: bold\">ShapedArray</span><span style=\"font-weight: bold\">(</span>int8<span style=\"font-weight: bold\">[</span><span style=\"color: #008080; text-decoration-color: #008080; font-weight: bold\">10</span>,<span style=\"color: #008080; text-decoration-color: #008080; font-weight: bold\">2</span>,<span style=\"color: #008080; text-decoration-color: #008080; font-weight: bold\">6</span><span style=\"font-weight: bold\">])</span>,\n",
                            "    <span style=\"color: #808000; text-decoration-color: #808000\">pos</span>=<span style=\"color: #800080; text-decoration-color: #800080; font-weight: bold\">Position</span><span style=\"font-weight: bold\">(</span><span style=\"color: #808000; text-decoration-color: #808000\">pos</span>=<span style=\"color: #800080; text-decoration-color: #800080; font-weight: bold\">ShapedArray</span><span style=\"font-weight: bold\">(</span>int8<span style=\"font-weight: bold\">[</span><span style=\"color: #008080; text-decoration-color: #008080; font-weight: bold\">10</span>,<span style=\"color: #008080; text-decoration-color: #008080; font-weight: bold\">2</span>,<span style=\"color: #008080; text-decoration-color: #008080; font-weight: bold\">6</span>,<span style=\"color: #008080; text-decoration-color: #008080; font-weight: bold\">2</span><span style=\"font-weight: bold\">]))</span>,\n",
                            "    <span style=\"color: #808000; text-decoration-color: #808000\">power</span>=<span style=\"color: #800080; text-decoration-color: #800080; font-weight: bold\">ShapedArray</span><span style=\"font-weight: bold\">(</span>int32<span style=\"font-weight: bold\">[</span><span style=\"color: #008080; text-decoration-color: #008080; font-weight: bold\">10</span>,<span style=\"color: #008080; text-decoration-color: #008080; font-weight: bold\">2</span>,<span style=\"color: #008080; text-decoration-color: #008080; font-weight: bold\">6</span><span style=\"font-weight: bold\">])</span>,\n",
                            "    <span style=\"color: #808000; text-decoration-color: #808000\">cargo</span>=<span style=\"color: #800080; text-decoration-color: #800080; font-weight: bold\">UnitCargo</span><span style=\"font-weight: bold\">(</span><span style=\"color: #808000; text-decoration-color: #808000\">stock</span>=<span style=\"color: #800080; text-decoration-color: #800080; font-weight: bold\">ShapedArray</span><span style=\"font-weight: bold\">(</span>int32<span style=\"font-weight: bold\">[</span><span style=\"color: #008080; text-decoration-color: #008080; font-weight: bold\">10</span>,<span style=\"color: #008080; text-decoration-color: #008080; font-weight: bold\">2</span>,<span style=\"color: #008080; text-decoration-color: #008080; font-weight: bold\">6</span>,<span style=\"color: #008080; text-decoration-color: #008080; font-weight: bold\">4</span><span style=\"font-weight: bold\">]))</span>\n",
                            "<span style=\"font-weight: bold\">)</span>\n",
                            "</pre>\n"
                        ],
                        "text/plain": [
                            "\u001b[1;35mFactory\u001b[0m\u001b[1m(\u001b[0m\n",
                            "    \u001b[33mteam_id\u001b[0m=\u001b[1;35mShapedArray\u001b[0m\u001b[1m(\u001b[0mint8\u001b[1m[\u001b[0m\u001b[1;36m10\u001b[0m,\u001b[1;36m2\u001b[0m,\u001b[1;36m6\u001b[0m\u001b[1m]\u001b[0m\u001b[1m)\u001b[0m,\n",
                            "    \u001b[33munit_id\u001b[0m=\u001b[1;35mShapedArray\u001b[0m\u001b[1m(\u001b[0mint8\u001b[1m[\u001b[0m\u001b[1;36m10\u001b[0m,\u001b[1;36m2\u001b[0m,\u001b[1;36m6\u001b[0m\u001b[1m]\u001b[0m\u001b[1m)\u001b[0m,\n",
                            "    \u001b[33mpos\u001b[0m=\u001b[1;35mPosition\u001b[0m\u001b[1m(\u001b[0m\u001b[33mpos\u001b[0m=\u001b[1;35mShapedArray\u001b[0m\u001b[1m(\u001b[0mint8\u001b[1m[\u001b[0m\u001b[1;36m10\u001b[0m,\u001b[1;36m2\u001b[0m,\u001b[1;36m6\u001b[0m,\u001b[1;36m2\u001b[0m\u001b[1m]\u001b[0m\u001b[1m)\u001b[0m\u001b[1m)\u001b[0m,\n",
                            "    \u001b[33mpower\u001b[0m=\u001b[1;35mShapedArray\u001b[0m\u001b[1m(\u001b[0mint32\u001b[1m[\u001b[0m\u001b[1;36m10\u001b[0m,\u001b[1;36m2\u001b[0m,\u001b[1;36m6\u001b[0m\u001b[1m]\u001b[0m\u001b[1m)\u001b[0m,\n",
                            "    \u001b[33mcargo\u001b[0m=\u001b[1;35mUnitCargo\u001b[0m\u001b[1m(\u001b[0m\u001b[33mstock\u001b[0m=\u001b[1;35mShapedArray\u001b[0m\u001b[1m(\u001b[0mint32\u001b[1m[\u001b[0m\u001b[1;36m10\u001b[0m,\u001b[1;36m2\u001b[0m,\u001b[1;36m6\u001b[0m,\u001b[1;36m4\u001b[0m\u001b[1m]\u001b[0m\u001b[1m)\u001b[0m\u001b[1m)\u001b[0m\n",
                            "\u001b[1m)\u001b[0m\n"
                        ]
                    },
                    "metadata": {},
                    "output_type": "display_data"
                }
            ],
            "source": [
                "rich.print(jux.tree_util.map_to_aval(states.factories))"
            ]
        },
        {
            "cell_type": "markdown",
            "metadata": {},
            "source": [
                "The states returned by `JuxEnvBatch.reset()` shares the same environmental config and jux buffer config. In addition, they are also guaranteed to have the same `states.board.factories_per_team`, so they take the same number of turns to place factories."
            ]
        },
        {
            "cell_type": "code",
            "execution_count": 29,
            "metadata": {},
            "outputs": [
                {
                    "data": {
                        "text/plain": [
                            "DeviceArray([2, 2, 2, 2, 2, 2, 2, 2, 2, 2], dtype=int8)"
                        ]
                    },
                    "execution_count": 29,
                    "metadata": {},
                    "output_type": "execute_result"
                }
            ],
            "source": [
                "states.board.factories_per_team"
            ]
        },
        {
            "cell_type": "markdown",
            "metadata": {},
            "source": [
                "Similarly, other arguments of `JuxEnvBatch.step_*()` are also batched. All arrays must have a leading dimension of `batch_size`."
            ]
        },
        {
            "cell_type": "code",
            "execution_count": 30,
            "metadata": {},
            "outputs": [
                {
                    "name": "stdout",
                    "output_type": "stream",
                    "text": [
                        "bid: ShapedArray(int32[10,2])\n",
                        "faction: ShapedArray(int8[10,2])\n"
                    ]
                }
            ],
            "source": [
                "# bid step\n",
                "bid = jnp.zeros((batch_size, 2), dtype=jnp.int32)\n",
                "faction = jnp.zeros((batch_size, 2), dtype=jnp.int8)\n",
                "\n",
                "states, (observations, rewards, dones, infos) = jux_env_batch.step_bid(states, bid, faction)\n",
                "\n",
                "print(f\"bid: {bid.aval}\")\n",
                "print(f\"faction: {faction.aval}\")"
            ]
        },
        {
            "cell_type": "code",
            "execution_count": 31,
            "metadata": {},
            "outputs": [
                {
                    "name": "stdout",
                    "output_type": "stream",
                    "text": [
                        "spawn: ShapedArray(int8[10,2,2])\n",
                        "water: ShapedArray(int32[10,2])\n",
                        "metal: ShapedArray(int32[10,2])\n"
                    ]
                }
            ],
            "source": [
                "key = jax.random.PRNGKey(0)\n",
                "water = jnp.ones((batch_size, 2), dtype=jnp.int32) * 150\n",
                "metal = jnp.ones((batch_size, 2), dtype=jnp.int32) * 150\n",
                "\n",
                "# factory placement step\n",
                "factories_per_team = states.board.factories_per_team[0]\n",
                "for i in range(factories_per_team * 2):\n",
                "    # random spawn position\n",
                "    key, subkey = jax.random.split(key)\n",
                "    spawn = jax.random.randint(subkey, (batch_size, 2, 2), 0, jux_env_batch.env_cfg.map_size, dtype=jnp.int8)\n",
                "    states, (observations, rewards, dones, infos) = jux_env_batch.step_factory_placement(states, spawn, water, metal)\n",
                "\n",
                "print(f\"spawn: {spawn.aval}\")\n",
                "print(f\"water: {water.aval}\")\n",
                "print(f\"metal: {metal.aval}\")"
            ]
        },
        {
            "cell_type": "code",
            "execution_count": 32,
            "metadata": {},
            "outputs": [
                {
                    "data": {
                        "text/html": [
                            "<pre style=\"white-space:pre;overflow-x:auto;line-height:normal;font-family:Menlo,'DejaVu Sans Mono',consolas,'Courier New',monospace\"><span style=\"color: #800080; text-decoration-color: #800080; font-weight: bold\">JuxAction</span><span style=\"font-weight: bold\">(</span>\n",
                            "    <span style=\"color: #808000; text-decoration-color: #808000\">factory_action</span>=<span style=\"color: #800080; text-decoration-color: #800080; font-weight: bold\">ShapedArray</span><span style=\"font-weight: bold\">(</span>int8<span style=\"font-weight: bold\">[</span><span style=\"color: #008080; text-decoration-color: #008080; font-weight: bold\">10</span>,<span style=\"color: #008080; text-decoration-color: #008080; font-weight: bold\">2</span>,<span style=\"color: #008080; text-decoration-color: #008080; font-weight: bold\">6</span><span style=\"font-weight: bold\">])</span>,\n",
                            "    <span style=\"color: #808000; text-decoration-color: #808000\">unit_action_queue</span>=<span style=\"color: #800080; text-decoration-color: #800080; font-weight: bold\">UnitAction</span><span style=\"font-weight: bold\">(</span>\n",
                            "        <span style=\"color: #808000; text-decoration-color: #808000\">action_type</span>=<span style=\"color: #800080; text-decoration-color: #800080; font-weight: bold\">ShapedArray</span><span style=\"font-weight: bold\">(</span>int8<span style=\"font-weight: bold\">[</span><span style=\"color: #008080; text-decoration-color: #008080; font-weight: bold\">10</span>,<span style=\"color: #008080; text-decoration-color: #008080; font-weight: bold\">2</span>,<span style=\"color: #008080; text-decoration-color: #008080; font-weight: bold\">200</span>,<span style=\"color: #008080; text-decoration-color: #008080; font-weight: bold\">20</span><span style=\"font-weight: bold\">])</span>,\n",
                            "        <span style=\"color: #808000; text-decoration-color: #808000\">direction</span>=<span style=\"color: #800080; text-decoration-color: #800080; font-weight: bold\">ShapedArray</span><span style=\"font-weight: bold\">(</span>int8<span style=\"font-weight: bold\">[</span><span style=\"color: #008080; text-decoration-color: #008080; font-weight: bold\">10</span>,<span style=\"color: #008080; text-decoration-color: #008080; font-weight: bold\">2</span>,<span style=\"color: #008080; text-decoration-color: #008080; font-weight: bold\">200</span>,<span style=\"color: #008080; text-decoration-color: #008080; font-weight: bold\">20</span><span style=\"font-weight: bold\">])</span>,\n",
                            "        <span style=\"color: #808000; text-decoration-color: #808000\">resource_type</span>=<span style=\"color: #800080; text-decoration-color: #800080; font-weight: bold\">ShapedArray</span><span style=\"font-weight: bold\">(</span>int8<span style=\"font-weight: bold\">[</span><span style=\"color: #008080; text-decoration-color: #008080; font-weight: bold\">10</span>,<span style=\"color: #008080; text-decoration-color: #008080; font-weight: bold\">2</span>,<span style=\"color: #008080; text-decoration-color: #008080; font-weight: bold\">200</span>,<span style=\"color: #008080; text-decoration-color: #008080; font-weight: bold\">20</span><span style=\"font-weight: bold\">])</span>,\n",
                            "        <span style=\"color: #808000; text-decoration-color: #808000\">amount</span>=<span style=\"color: #800080; text-decoration-color: #800080; font-weight: bold\">ShapedArray</span><span style=\"font-weight: bold\">(</span>int16<span style=\"font-weight: bold\">[</span><span style=\"color: #008080; text-decoration-color: #008080; font-weight: bold\">10</span>,<span style=\"color: #008080; text-decoration-color: #008080; font-weight: bold\">2</span>,<span style=\"color: #008080; text-decoration-color: #008080; font-weight: bold\">200</span>,<span style=\"color: #008080; text-decoration-color: #008080; font-weight: bold\">20</span><span style=\"font-weight: bold\">])</span>,\n",
                            "        <span style=\"color: #808000; text-decoration-color: #808000\">repeat</span>=<span style=\"color: #800080; text-decoration-color: #800080; font-weight: bold\">ShapedArray</span><span style=\"font-weight: bold\">(</span>int8<span style=\"font-weight: bold\">[</span><span style=\"color: #008080; text-decoration-color: #008080; font-weight: bold\">10</span>,<span style=\"color: #008080; text-decoration-color: #008080; font-weight: bold\">2</span>,<span style=\"color: #008080; text-decoration-color: #008080; font-weight: bold\">200</span>,<span style=\"color: #008080; text-decoration-color: #008080; font-weight: bold\">20</span><span style=\"font-weight: bold\">])</span>\n",
                            "    <span style=\"font-weight: bold\">)</span>,\n",
                            "    <span style=\"color: #808000; text-decoration-color: #808000\">unit_action_queue_count</span>=<span style=\"color: #800080; text-decoration-color: #800080; font-weight: bold\">ShapedArray</span><span style=\"font-weight: bold\">(</span>int8<span style=\"font-weight: bold\">[</span><span style=\"color: #008080; text-decoration-color: #008080; font-weight: bold\">10</span>,<span style=\"color: #008080; text-decoration-color: #008080; font-weight: bold\">2</span>,<span style=\"color: #008080; text-decoration-color: #008080; font-weight: bold\">200</span><span style=\"font-weight: bold\">])</span>,\n",
                            "    <span style=\"color: #808000; text-decoration-color: #808000\">unit_action_queue_update</span>=<span style=\"color: #800080; text-decoration-color: #800080; font-weight: bold\">ShapedArray</span><span style=\"font-weight: bold\">(</span>bool<span style=\"font-weight: bold\">[</span><span style=\"color: #008080; text-decoration-color: #008080; font-weight: bold\">10</span>,<span style=\"color: #008080; text-decoration-color: #008080; font-weight: bold\">2</span>,<span style=\"color: #008080; text-decoration-color: #008080; font-weight: bold\">200</span><span style=\"font-weight: bold\">])</span>\n",
                            "<span style=\"font-weight: bold\">)</span>\n",
                            "</pre>\n"
                        ],
                        "text/plain": [
                            "\u001b[1;35mJuxAction\u001b[0m\u001b[1m(\u001b[0m\n",
                            "    \u001b[33mfactory_action\u001b[0m=\u001b[1;35mShapedArray\u001b[0m\u001b[1m(\u001b[0mint8\u001b[1m[\u001b[0m\u001b[1;36m10\u001b[0m,\u001b[1;36m2\u001b[0m,\u001b[1;36m6\u001b[0m\u001b[1m]\u001b[0m\u001b[1m)\u001b[0m,\n",
                            "    \u001b[33munit_action_queue\u001b[0m=\u001b[1;35mUnitAction\u001b[0m\u001b[1m(\u001b[0m\n",
                            "        \u001b[33maction_type\u001b[0m=\u001b[1;35mShapedArray\u001b[0m\u001b[1m(\u001b[0mint8\u001b[1m[\u001b[0m\u001b[1;36m10\u001b[0m,\u001b[1;36m2\u001b[0m,\u001b[1;36m200\u001b[0m,\u001b[1;36m20\u001b[0m\u001b[1m]\u001b[0m\u001b[1m)\u001b[0m,\n",
                            "        \u001b[33mdirection\u001b[0m=\u001b[1;35mShapedArray\u001b[0m\u001b[1m(\u001b[0mint8\u001b[1m[\u001b[0m\u001b[1;36m10\u001b[0m,\u001b[1;36m2\u001b[0m,\u001b[1;36m200\u001b[0m,\u001b[1;36m20\u001b[0m\u001b[1m]\u001b[0m\u001b[1m)\u001b[0m,\n",
                            "        \u001b[33mresource_type\u001b[0m=\u001b[1;35mShapedArray\u001b[0m\u001b[1m(\u001b[0mint8\u001b[1m[\u001b[0m\u001b[1;36m10\u001b[0m,\u001b[1;36m2\u001b[0m,\u001b[1;36m200\u001b[0m,\u001b[1;36m20\u001b[0m\u001b[1m]\u001b[0m\u001b[1m)\u001b[0m,\n",
                            "        \u001b[33mamount\u001b[0m=\u001b[1;35mShapedArray\u001b[0m\u001b[1m(\u001b[0mint16\u001b[1m[\u001b[0m\u001b[1;36m10\u001b[0m,\u001b[1;36m2\u001b[0m,\u001b[1;36m200\u001b[0m,\u001b[1;36m20\u001b[0m\u001b[1m]\u001b[0m\u001b[1m)\u001b[0m,\n",
                            "        \u001b[33mrepeat\u001b[0m=\u001b[1;35mShapedArray\u001b[0m\u001b[1m(\u001b[0mint8\u001b[1m[\u001b[0m\u001b[1;36m10\u001b[0m,\u001b[1;36m2\u001b[0m,\u001b[1;36m200\u001b[0m,\u001b[1;36m20\u001b[0m\u001b[1m]\u001b[0m\u001b[1m)\u001b[0m\n",
                            "    \u001b[1m)\u001b[0m,\n",
                            "    \u001b[33munit_action_queue_count\u001b[0m=\u001b[1;35mShapedArray\u001b[0m\u001b[1m(\u001b[0mint8\u001b[1m[\u001b[0m\u001b[1;36m10\u001b[0m,\u001b[1;36m2\u001b[0m,\u001b[1;36m200\u001b[0m\u001b[1m]\u001b[0m\u001b[1m)\u001b[0m,\n",
                            "    \u001b[33munit_action_queue_update\u001b[0m=\u001b[1;35mShapedArray\u001b[0m\u001b[1m(\u001b[0mbool\u001b[1m[\u001b[0m\u001b[1;36m10\u001b[0m,\u001b[1;36m2\u001b[0m,\u001b[1;36m200\u001b[0m\u001b[1m]\u001b[0m\u001b[1m)\u001b[0m\n",
                            "\u001b[1m)\u001b[0m\n"
                        ]
                    },
                    "metadata": {},
                    "output_type": "display_data"
                }
            ],
            "source": [
                "# a dummy action\n",
                "jux_action = JuxAction.empty(\n",
                "    jux_env_batch.env_cfg, \n",
                "    jux_env_batch.buf_cfg\n",
                ")\n",
                "jux_action = jax.tree_map(lambda x: x[None].repeat(batch_size, axis=0), jux_action)\n",
                "rich.print(jux.tree_util.map_to_aval(jux_action))\n",
                "\n",
                "# late game step\n",
                "states, (observations, rewards, dones, infos) = jux_env_batch.step_late_game(states, jux_action)"
            ]
        },
        {
            "cell_type": "markdown",
            "metadata": {},
            "source": [
                "## Convert between PyTorch and JAX"
            ]
        },
        {
            "cell_type": "markdown",
            "metadata": {},
            "source": [
                "Since PyTorch is widely used in the community, we provide a simple way to convert between PyTorch and JAX. Following code shows how to convert observations (state) from JAX array to PyTorch tensor, so it can be feed into PyTorch models."
            ]
        },
        {
            "cell_type": "code",
            "execution_count": 33,
            "metadata": {},
            "outputs": [
                {
                    "data": {
                        "text/html": [
                            "<pre style=\"white-space:pre;overflow-x:auto;line-height:normal;font-family:Menlo,'DejaVu Sans Mono',consolas,'Courier New',monospace\"><span style=\"color: #800080; text-decoration-color: #800080; font-weight: bold\">State</span><span style=\"font-weight: bold\">(</span>\n",
                            "    <span style=\"color: #808000; text-decoration-color: #808000\">env_cfg</span>=<span style=\"color: #800080; text-decoration-color: #800080; font-style: italic\">None</span>,\n",
                            "    <span style=\"color: #808000; text-decoration-color: #808000\">seed</span>=<span style=\"color: #800080; text-decoration-color: #800080; font-weight: bold\">torch</span><span style=\"color: #800080; text-decoration-color: #800080; font-weight: bold\">.Size</span><span style=\"font-weight: bold\">([</span><span style=\"color: #008080; text-decoration-color: #008080; font-weight: bold\">10</span><span style=\"font-weight: bold\">])</span>,\n",
                            "    <span style=\"color: #808000; text-decoration-color: #808000\">rng_state</span>=<span style=\"color: #800080; text-decoration-color: #800080; font-style: italic\">None</span>,\n",
                            "    <span style=\"color: #808000; text-decoration-color: #808000\">env_steps</span>=<span style=\"color: #800080; text-decoration-color: #800080; font-weight: bold\">torch</span><span style=\"color: #800080; text-decoration-color: #800080; font-weight: bold\">.Size</span><span style=\"font-weight: bold\">([</span><span style=\"color: #008080; text-decoration-color: #008080; font-weight: bold\">10</span><span style=\"font-weight: bold\">])</span>,\n",
                            "    <span style=\"color: #808000; text-decoration-color: #808000\">board</span>=<span style=\"color: #800080; text-decoration-color: #800080; font-weight: bold\">Board</span><span style=\"font-weight: bold\">(</span>\n",
                            "        <span style=\"color: #808000; text-decoration-color: #808000\">seed</span>=<span style=\"color: #800080; text-decoration-color: #800080; font-weight: bold\">torch</span><span style=\"color: #800080; text-decoration-color: #800080; font-weight: bold\">.Size</span><span style=\"font-weight: bold\">([</span><span style=\"color: #008080; text-decoration-color: #008080; font-weight: bold\">10</span><span style=\"font-weight: bold\">])</span>,\n",
                            "        <span style=\"color: #808000; text-decoration-color: #808000\">factories_per_team</span>=<span style=\"color: #800080; text-decoration-color: #800080; font-weight: bold\">torch</span><span style=\"color: #800080; text-decoration-color: #800080; font-weight: bold\">.Size</span><span style=\"font-weight: bold\">([</span><span style=\"color: #008080; text-decoration-color: #008080; font-weight: bold\">10</span><span style=\"font-weight: bold\">])</span>,\n",
                            "        <span style=\"color: #808000; text-decoration-color: #808000\">map</span>=<span style=\"color: #800080; text-decoration-color: #800080; font-weight: bold\">GameMap</span><span style=\"font-weight: bold\">(</span>\n",
                            "            <span style=\"color: #808000; text-decoration-color: #808000\">rubble</span>=<span style=\"color: #800080; text-decoration-color: #800080; font-weight: bold\">torch</span><span style=\"color: #800080; text-decoration-color: #800080; font-weight: bold\">.Size</span><span style=\"font-weight: bold\">([</span><span style=\"color: #008080; text-decoration-color: #008080; font-weight: bold\">10</span>, <span style=\"color: #008080; text-decoration-color: #008080; font-weight: bold\">48</span>, <span style=\"color: #008080; text-decoration-color: #008080; font-weight: bold\">48</span><span style=\"font-weight: bold\">])</span>,\n",
                            "            <span style=\"color: #808000; text-decoration-color: #808000\">ice</span>=<span style=\"color: #800080; text-decoration-color: #800080; font-weight: bold\">torch</span><span style=\"color: #800080; text-decoration-color: #800080; font-weight: bold\">.Size</span><span style=\"font-weight: bold\">([</span><span style=\"color: #008080; text-decoration-color: #008080; font-weight: bold\">10</span>, <span style=\"color: #008080; text-decoration-color: #008080; font-weight: bold\">48</span>, <span style=\"color: #008080; text-decoration-color: #008080; font-weight: bold\">48</span><span style=\"font-weight: bold\">])</span>,\n",
                            "            <span style=\"color: #808000; text-decoration-color: #808000\">ore</span>=<span style=\"color: #800080; text-decoration-color: #800080; font-weight: bold\">torch</span><span style=\"color: #800080; text-decoration-color: #800080; font-weight: bold\">.Size</span><span style=\"font-weight: bold\">([</span><span style=\"color: #008080; text-decoration-color: #008080; font-weight: bold\">10</span>, <span style=\"color: #008080; text-decoration-color: #008080; font-weight: bold\">48</span>, <span style=\"color: #008080; text-decoration-color: #008080; font-weight: bold\">48</span><span style=\"font-weight: bold\">])</span>,\n",
                            "            <span style=\"color: #808000; text-decoration-color: #808000\">symmetry</span>=<span style=\"color: #800080; text-decoration-color: #800080; font-weight: bold\">torch</span><span style=\"color: #800080; text-decoration-color: #800080; font-weight: bold\">.Size</span><span style=\"font-weight: bold\">([</span><span style=\"color: #008080; text-decoration-color: #008080; font-weight: bold\">10</span><span style=\"font-weight: bold\">])</span>\n",
                            "        <span style=\"font-weight: bold\">)</span>,\n",
                            "        <span style=\"color: #808000; text-decoration-color: #808000\">lichen</span>=<span style=\"color: #800080; text-decoration-color: #800080; font-weight: bold\">torch</span><span style=\"color: #800080; text-decoration-color: #800080; font-weight: bold\">.Size</span><span style=\"font-weight: bold\">([</span><span style=\"color: #008080; text-decoration-color: #008080; font-weight: bold\">10</span>, <span style=\"color: #008080; text-decoration-color: #008080; font-weight: bold\">48</span>, <span style=\"color: #008080; text-decoration-color: #008080; font-weight: bold\">48</span><span style=\"font-weight: bold\">])</span>,\n",
                            "        <span style=\"color: #808000; text-decoration-color: #808000\">lichen_strains</span>=<span style=\"color: #800080; text-decoration-color: #800080; font-weight: bold\">torch</span><span style=\"color: #800080; text-decoration-color: #800080; font-weight: bold\">.Size</span><span style=\"font-weight: bold\">([</span><span style=\"color: #008080; text-decoration-color: #008080; font-weight: bold\">10</span>, <span style=\"color: #008080; text-decoration-color: #008080; font-weight: bold\">48</span>, <span style=\"color: #008080; text-decoration-color: #008080; font-weight: bold\">48</span><span style=\"font-weight: bold\">])</span>,\n",
                            "        <span style=\"color: #808000; text-decoration-color: #808000\">units_map</span>=<span style=\"color: #800080; text-decoration-color: #800080; font-weight: bold\">torch</span><span style=\"color: #800080; text-decoration-color: #800080; font-weight: bold\">.Size</span><span style=\"font-weight: bold\">([</span><span style=\"color: #008080; text-decoration-color: #008080; font-weight: bold\">10</span>, <span style=\"color: #008080; text-decoration-color: #008080; font-weight: bold\">48</span>, <span style=\"color: #008080; text-decoration-color: #008080; font-weight: bold\">48</span><span style=\"font-weight: bold\">])</span>,\n",
                            "        <span style=\"color: #808000; text-decoration-color: #808000\">factory_map</span>=<span style=\"color: #800080; text-decoration-color: #800080; font-weight: bold\">torch</span><span style=\"color: #800080; text-decoration-color: #800080; font-weight: bold\">.Size</span><span style=\"font-weight: bold\">([</span><span style=\"color: #008080; text-decoration-color: #008080; font-weight: bold\">10</span>, <span style=\"color: #008080; text-decoration-color: #008080; font-weight: bold\">48</span>, <span style=\"color: #008080; text-decoration-color: #008080; font-weight: bold\">48</span><span style=\"font-weight: bold\">])</span>,\n",
                            "        <span style=\"color: #808000; text-decoration-color: #808000\">factory_occupancy_map</span>=<span style=\"color: #800080; text-decoration-color: #800080; font-weight: bold\">torch</span><span style=\"color: #800080; text-decoration-color: #800080; font-weight: bold\">.Size</span><span style=\"font-weight: bold\">([</span><span style=\"color: #008080; text-decoration-color: #008080; font-weight: bold\">10</span>, <span style=\"color: #008080; text-decoration-color: #008080; font-weight: bold\">48</span>, <span style=\"color: #008080; text-decoration-color: #008080; font-weight: bold\">48</span><span style=\"font-weight: bold\">])</span>,\n",
                            "        <span style=\"color: #808000; text-decoration-color: #808000\">factory_pos</span>=<span style=\"color: #800080; text-decoration-color: #800080; font-weight: bold\">torch</span><span style=\"color: #800080; text-decoration-color: #800080; font-weight: bold\">.Size</span><span style=\"font-weight: bold\">([</span><span style=\"color: #008080; text-decoration-color: #008080; font-weight: bold\">10</span>, <span style=\"color: #008080; text-decoration-color: #008080; font-weight: bold\">12</span>, <span style=\"color: #008080; text-decoration-color: #008080; font-weight: bold\">2</span><span style=\"font-weight: bold\">])</span>\n",
                            "    <span style=\"font-weight: bold\">)</span>,\n",
                            "    <span style=\"color: #808000; text-decoration-color: #808000\">weather_schedule</span>=<span style=\"color: #800080; text-decoration-color: #800080; font-weight: bold\">torch</span><span style=\"color: #800080; text-decoration-color: #800080; font-weight: bold\">.Size</span><span style=\"font-weight: bold\">([</span><span style=\"color: #008080; text-decoration-color: #008080; font-weight: bold\">10</span>, <span style=\"color: #008080; text-decoration-color: #008080; font-weight: bold\">1000</span><span style=\"font-weight: bold\">])</span>,\n",
                            "    <span style=\"color: #808000; text-decoration-color: #808000\">units</span>=<span style=\"color: #800080; text-decoration-color: #800080; font-weight: bold\">Unit</span><span style=\"font-weight: bold\">(</span>\n",
                            "        <span style=\"color: #808000; text-decoration-color: #808000\">unit_type</span>=<span style=\"color: #800080; text-decoration-color: #800080; font-weight: bold\">torch</span><span style=\"color: #800080; text-decoration-color: #800080; font-weight: bold\">.Size</span><span style=\"font-weight: bold\">([</span><span style=\"color: #008080; text-decoration-color: #008080; font-weight: bold\">10</span>, <span style=\"color: #008080; text-decoration-color: #008080; font-weight: bold\">2</span>, <span style=\"color: #008080; text-decoration-color: #008080; font-weight: bold\">200</span><span style=\"font-weight: bold\">])</span>,\n",
                            "        <span style=\"color: #808000; text-decoration-color: #808000\">action_queue</span>=<span style=\"color: #800080; text-decoration-color: #800080; font-weight: bold\">ActionQueue</span><span style=\"font-weight: bold\">(</span>\n",
                            "            <span style=\"color: #808000; text-decoration-color: #808000\">data</span>=<span style=\"color: #800080; text-decoration-color: #800080; font-weight: bold\">UnitAction</span><span style=\"font-weight: bold\">(</span>\n",
                            "                <span style=\"color: #808000; text-decoration-color: #808000\">action_type</span>=<span style=\"color: #800080; text-decoration-color: #800080; font-weight: bold\">torch</span><span style=\"color: #800080; text-decoration-color: #800080; font-weight: bold\">.Size</span><span style=\"font-weight: bold\">([</span><span style=\"color: #008080; text-decoration-color: #008080; font-weight: bold\">10</span>, <span style=\"color: #008080; text-decoration-color: #008080; font-weight: bold\">2</span>, <span style=\"color: #008080; text-decoration-color: #008080; font-weight: bold\">200</span>, <span style=\"color: #008080; text-decoration-color: #008080; font-weight: bold\">20</span><span style=\"font-weight: bold\">])</span>,\n",
                            "                <span style=\"color: #808000; text-decoration-color: #808000\">direction</span>=<span style=\"color: #800080; text-decoration-color: #800080; font-weight: bold\">torch</span><span style=\"color: #800080; text-decoration-color: #800080; font-weight: bold\">.Size</span><span style=\"font-weight: bold\">([</span><span style=\"color: #008080; text-decoration-color: #008080; font-weight: bold\">10</span>, <span style=\"color: #008080; text-decoration-color: #008080; font-weight: bold\">2</span>, <span style=\"color: #008080; text-decoration-color: #008080; font-weight: bold\">200</span>, <span style=\"color: #008080; text-decoration-color: #008080; font-weight: bold\">20</span><span style=\"font-weight: bold\">])</span>,\n",
                            "                <span style=\"color: #808000; text-decoration-color: #808000\">resource_type</span>=<span style=\"color: #800080; text-decoration-color: #800080; font-weight: bold\">torch</span><span style=\"color: #800080; text-decoration-color: #800080; font-weight: bold\">.Size</span><span style=\"font-weight: bold\">([</span><span style=\"color: #008080; text-decoration-color: #008080; font-weight: bold\">10</span>, <span style=\"color: #008080; text-decoration-color: #008080; font-weight: bold\">2</span>, <span style=\"color: #008080; text-decoration-color: #008080; font-weight: bold\">200</span>, <span style=\"color: #008080; text-decoration-color: #008080; font-weight: bold\">20</span><span style=\"font-weight: bold\">])</span>,\n",
                            "                <span style=\"color: #808000; text-decoration-color: #808000\">amount</span>=<span style=\"color: #800080; text-decoration-color: #800080; font-weight: bold\">torch</span><span style=\"color: #800080; text-decoration-color: #800080; font-weight: bold\">.Size</span><span style=\"font-weight: bold\">([</span><span style=\"color: #008080; text-decoration-color: #008080; font-weight: bold\">10</span>, <span style=\"color: #008080; text-decoration-color: #008080; font-weight: bold\">2</span>, <span style=\"color: #008080; text-decoration-color: #008080; font-weight: bold\">200</span>, <span style=\"color: #008080; text-decoration-color: #008080; font-weight: bold\">20</span><span style=\"font-weight: bold\">])</span>,\n",
                            "                <span style=\"color: #808000; text-decoration-color: #808000\">repeat</span>=<span style=\"color: #800080; text-decoration-color: #800080; font-weight: bold\">torch</span><span style=\"color: #800080; text-decoration-color: #800080; font-weight: bold\">.Size</span><span style=\"font-weight: bold\">([</span><span style=\"color: #008080; text-decoration-color: #008080; font-weight: bold\">10</span>, <span style=\"color: #008080; text-decoration-color: #008080; font-weight: bold\">2</span>, <span style=\"color: #008080; text-decoration-color: #008080; font-weight: bold\">200</span>, <span style=\"color: #008080; text-decoration-color: #008080; font-weight: bold\">20</span><span style=\"font-weight: bold\">])</span>\n",
                            "            <span style=\"font-weight: bold\">)</span>,\n",
                            "            <span style=\"color: #808000; text-decoration-color: #808000\">front</span>=<span style=\"color: #800080; text-decoration-color: #800080; font-weight: bold\">torch</span><span style=\"color: #800080; text-decoration-color: #800080; font-weight: bold\">.Size</span><span style=\"font-weight: bold\">([</span><span style=\"color: #008080; text-decoration-color: #008080; font-weight: bold\">10</span>, <span style=\"color: #008080; text-decoration-color: #008080; font-weight: bold\">2</span>, <span style=\"color: #008080; text-decoration-color: #008080; font-weight: bold\">200</span><span style=\"font-weight: bold\">])</span>,\n",
                            "            <span style=\"color: #808000; text-decoration-color: #808000\">rear</span>=<span style=\"color: #800080; text-decoration-color: #800080; font-weight: bold\">torch</span><span style=\"color: #800080; text-decoration-color: #800080; font-weight: bold\">.Size</span><span style=\"font-weight: bold\">([</span><span style=\"color: #008080; text-decoration-color: #008080; font-weight: bold\">10</span>, <span style=\"color: #008080; text-decoration-color: #008080; font-weight: bold\">2</span>, <span style=\"color: #008080; text-decoration-color: #008080; font-weight: bold\">200</span><span style=\"font-weight: bold\">])</span>,\n",
                            "            <span style=\"color: #808000; text-decoration-color: #808000\">count</span>=<span style=\"color: #800080; text-decoration-color: #800080; font-weight: bold\">torch</span><span style=\"color: #800080; text-decoration-color: #800080; font-weight: bold\">.Size</span><span style=\"font-weight: bold\">([</span><span style=\"color: #008080; text-decoration-color: #008080; font-weight: bold\">10</span>, <span style=\"color: #008080; text-decoration-color: #008080; font-weight: bold\">2</span>, <span style=\"color: #008080; text-decoration-color: #008080; font-weight: bold\">200</span><span style=\"font-weight: bold\">])</span>\n",
                            "        <span style=\"font-weight: bold\">)</span>,\n",
                            "        <span style=\"color: #808000; text-decoration-color: #808000\">team_id</span>=<span style=\"color: #800080; text-decoration-color: #800080; font-weight: bold\">torch</span><span style=\"color: #800080; text-decoration-color: #800080; font-weight: bold\">.Size</span><span style=\"font-weight: bold\">([</span><span style=\"color: #008080; text-decoration-color: #008080; font-weight: bold\">10</span>, <span style=\"color: #008080; text-decoration-color: #008080; font-weight: bold\">2</span>, <span style=\"color: #008080; text-decoration-color: #008080; font-weight: bold\">200</span><span style=\"font-weight: bold\">])</span>,\n",
                            "        <span style=\"color: #808000; text-decoration-color: #808000\">unit_id</span>=<span style=\"color: #800080; text-decoration-color: #800080; font-weight: bold\">torch</span><span style=\"color: #800080; text-decoration-color: #800080; font-weight: bold\">.Size</span><span style=\"font-weight: bold\">([</span><span style=\"color: #008080; text-decoration-color: #008080; font-weight: bold\">10</span>, <span style=\"color: #008080; text-decoration-color: #008080; font-weight: bold\">2</span>, <span style=\"color: #008080; text-decoration-color: #008080; font-weight: bold\">200</span><span style=\"font-weight: bold\">])</span>,\n",
                            "        <span style=\"color: #808000; text-decoration-color: #808000\">pos</span>=<span style=\"color: #800080; text-decoration-color: #800080; font-weight: bold\">Position</span><span style=\"font-weight: bold\">(</span><span style=\"color: #808000; text-decoration-color: #808000\">pos</span>=<span style=\"color: #800080; text-decoration-color: #800080; font-weight: bold\">torch</span><span style=\"color: #800080; text-decoration-color: #800080; font-weight: bold\">.Size</span><span style=\"font-weight: bold\">([</span><span style=\"color: #008080; text-decoration-color: #008080; font-weight: bold\">10</span>, <span style=\"color: #008080; text-decoration-color: #008080; font-weight: bold\">2</span>, <span style=\"color: #008080; text-decoration-color: #008080; font-weight: bold\">200</span>, <span style=\"color: #008080; text-decoration-color: #008080; font-weight: bold\">2</span><span style=\"font-weight: bold\">]))</span>,\n",
                            "        <span style=\"color: #808000; text-decoration-color: #808000\">cargo</span>=<span style=\"color: #800080; text-decoration-color: #800080; font-weight: bold\">UnitCargo</span><span style=\"font-weight: bold\">(</span><span style=\"color: #808000; text-decoration-color: #808000\">stock</span>=<span style=\"color: #800080; text-decoration-color: #800080; font-weight: bold\">torch</span><span style=\"color: #800080; text-decoration-color: #800080; font-weight: bold\">.Size</span><span style=\"font-weight: bold\">([</span><span style=\"color: #008080; text-decoration-color: #008080; font-weight: bold\">10</span>, <span style=\"color: #008080; text-decoration-color: #008080; font-weight: bold\">2</span>, <span style=\"color: #008080; text-decoration-color: #008080; font-weight: bold\">200</span>, <span style=\"color: #008080; text-decoration-color: #008080; font-weight: bold\">4</span><span style=\"font-weight: bold\">]))</span>,\n",
                            "        <span style=\"color: #808000; text-decoration-color: #808000\">power</span>=<span style=\"color: #800080; text-decoration-color: #800080; font-weight: bold\">torch</span><span style=\"color: #800080; text-decoration-color: #800080; font-weight: bold\">.Size</span><span style=\"font-weight: bold\">([</span><span style=\"color: #008080; text-decoration-color: #008080; font-weight: bold\">10</span>, <span style=\"color: #008080; text-decoration-color: #008080; font-weight: bold\">2</span>, <span style=\"color: #008080; text-decoration-color: #008080; font-weight: bold\">200</span><span style=\"font-weight: bold\">])</span>\n",
                            "    <span style=\"font-weight: bold\">)</span>,\n",
                            "    <span style=\"color: #808000; text-decoration-color: #808000\">unit_id2idx</span>=<span style=\"color: #800080; text-decoration-color: #800080; font-weight: bold\">torch</span><span style=\"color: #800080; text-decoration-color: #800080; font-weight: bold\">.Size</span><span style=\"font-weight: bold\">([</span><span style=\"color: #008080; text-decoration-color: #008080; font-weight: bold\">10</span>, <span style=\"color: #008080; text-decoration-color: #008080; font-weight: bold\">2000</span>, <span style=\"color: #008080; text-decoration-color: #008080; font-weight: bold\">2</span><span style=\"font-weight: bold\">])</span>,\n",
                            "    <span style=\"color: #808000; text-decoration-color: #808000\">n_units</span>=<span style=\"color: #800080; text-decoration-color: #800080; font-weight: bold\">torch</span><span style=\"color: #800080; text-decoration-color: #800080; font-weight: bold\">.Size</span><span style=\"font-weight: bold\">([</span><span style=\"color: #008080; text-decoration-color: #008080; font-weight: bold\">10</span>, <span style=\"color: #008080; text-decoration-color: #008080; font-weight: bold\">2</span><span style=\"font-weight: bold\">])</span>,\n",
                            "    <span style=\"color: #808000; text-decoration-color: #808000\">factories</span>=<span style=\"color: #800080; text-decoration-color: #800080; font-weight: bold\">Factory</span><span style=\"font-weight: bold\">(</span>\n",
                            "        <span style=\"color: #808000; text-decoration-color: #808000\">team_id</span>=<span style=\"color: #800080; text-decoration-color: #800080; font-weight: bold\">torch</span><span style=\"color: #800080; text-decoration-color: #800080; font-weight: bold\">.Size</span><span style=\"font-weight: bold\">([</span><span style=\"color: #008080; text-decoration-color: #008080; font-weight: bold\">10</span>, <span style=\"color: #008080; text-decoration-color: #008080; font-weight: bold\">2</span>, <span style=\"color: #008080; text-decoration-color: #008080; font-weight: bold\">6</span><span style=\"font-weight: bold\">])</span>,\n",
                            "        <span style=\"color: #808000; text-decoration-color: #808000\">unit_id</span>=<span style=\"color: #800080; text-decoration-color: #800080; font-weight: bold\">torch</span><span style=\"color: #800080; text-decoration-color: #800080; font-weight: bold\">.Size</span><span style=\"font-weight: bold\">([</span><span style=\"color: #008080; text-decoration-color: #008080; font-weight: bold\">10</span>, <span style=\"color: #008080; text-decoration-color: #008080; font-weight: bold\">2</span>, <span style=\"color: #008080; text-decoration-color: #008080; font-weight: bold\">6</span><span style=\"font-weight: bold\">])</span>,\n",
                            "        <span style=\"color: #808000; text-decoration-color: #808000\">pos</span>=<span style=\"color: #800080; text-decoration-color: #800080; font-weight: bold\">Position</span><span style=\"font-weight: bold\">(</span><span style=\"color: #808000; text-decoration-color: #808000\">pos</span>=<span style=\"color: #800080; text-decoration-color: #800080; font-weight: bold\">torch</span><span style=\"color: #800080; text-decoration-color: #800080; font-weight: bold\">.Size</span><span style=\"font-weight: bold\">([</span><span style=\"color: #008080; text-decoration-color: #008080; font-weight: bold\">10</span>, <span style=\"color: #008080; text-decoration-color: #008080; font-weight: bold\">2</span>, <span style=\"color: #008080; text-decoration-color: #008080; font-weight: bold\">6</span>, <span style=\"color: #008080; text-decoration-color: #008080; font-weight: bold\">2</span><span style=\"font-weight: bold\">]))</span>,\n",
                            "        <span style=\"color: #808000; text-decoration-color: #808000\">power</span>=<span style=\"color: #800080; text-decoration-color: #800080; font-weight: bold\">torch</span><span style=\"color: #800080; text-decoration-color: #800080; font-weight: bold\">.Size</span><span style=\"font-weight: bold\">([</span><span style=\"color: #008080; text-decoration-color: #008080; font-weight: bold\">10</span>, <span style=\"color: #008080; text-decoration-color: #008080; font-weight: bold\">2</span>, <span style=\"color: #008080; text-decoration-color: #008080; font-weight: bold\">6</span><span style=\"font-weight: bold\">])</span>,\n",
                            "        <span style=\"color: #808000; text-decoration-color: #808000\">cargo</span>=<span style=\"color: #800080; text-decoration-color: #800080; font-weight: bold\">UnitCargo</span><span style=\"font-weight: bold\">(</span><span style=\"color: #808000; text-decoration-color: #808000\">stock</span>=<span style=\"color: #800080; text-decoration-color: #800080; font-weight: bold\">torch</span><span style=\"color: #800080; text-decoration-color: #800080; font-weight: bold\">.Size</span><span style=\"font-weight: bold\">([</span><span style=\"color: #008080; text-decoration-color: #008080; font-weight: bold\">10</span>, <span style=\"color: #008080; text-decoration-color: #008080; font-weight: bold\">2</span>, <span style=\"color: #008080; text-decoration-color: #008080; font-weight: bold\">6</span>, <span style=\"color: #008080; text-decoration-color: #008080; font-weight: bold\">4</span><span style=\"font-weight: bold\">]))</span>\n",
                            "    <span style=\"font-weight: bold\">)</span>,\n",
                            "    <span style=\"color: #808000; text-decoration-color: #808000\">factory_id2idx</span>=<span style=\"color: #800080; text-decoration-color: #800080; font-weight: bold\">torch</span><span style=\"color: #800080; text-decoration-color: #800080; font-weight: bold\">.Size</span><span style=\"font-weight: bold\">([</span><span style=\"color: #008080; text-decoration-color: #008080; font-weight: bold\">10</span>, <span style=\"color: #008080; text-decoration-color: #008080; font-weight: bold\">12</span>, <span style=\"color: #008080; text-decoration-color: #008080; font-weight: bold\">2</span><span style=\"font-weight: bold\">])</span>,\n",
                            "    <span style=\"color: #808000; text-decoration-color: #808000\">n_factories</span>=<span style=\"color: #800080; text-decoration-color: #800080; font-weight: bold\">torch</span><span style=\"color: #800080; text-decoration-color: #800080; font-weight: bold\">.Size</span><span style=\"font-weight: bold\">([</span><span style=\"color: #008080; text-decoration-color: #008080; font-weight: bold\">10</span>, <span style=\"color: #008080; text-decoration-color: #008080; font-weight: bold\">2</span><span style=\"font-weight: bold\">])</span>,\n",
                            "    <span style=\"color: #808000; text-decoration-color: #808000\">teams</span>=<span style=\"color: #800080; text-decoration-color: #800080; font-weight: bold\">Team</span><span style=\"font-weight: bold\">(</span>\n",
                            "        <span style=\"color: #808000; text-decoration-color: #808000\">team_id</span>=<span style=\"color: #800080; text-decoration-color: #800080; font-weight: bold\">torch</span><span style=\"color: #800080; text-decoration-color: #800080; font-weight: bold\">.Size</span><span style=\"font-weight: bold\">([</span><span style=\"color: #008080; text-decoration-color: #008080; font-weight: bold\">10</span>, <span style=\"color: #008080; text-decoration-color: #008080; font-weight: bold\">2</span><span style=\"font-weight: bold\">])</span>,\n",
                            "        <span style=\"color: #808000; text-decoration-color: #808000\">faction</span>=<span style=\"color: #800080; text-decoration-color: #800080; font-weight: bold\">torch</span><span style=\"color: #800080; text-decoration-color: #800080; font-weight: bold\">.Size</span><span style=\"font-weight: bold\">([</span><span style=\"color: #008080; text-decoration-color: #008080; font-weight: bold\">10</span>, <span style=\"color: #008080; text-decoration-color: #008080; font-weight: bold\">2</span><span style=\"font-weight: bold\">])</span>,\n",
                            "        <span style=\"color: #808000; text-decoration-color: #808000\">init_water</span>=<span style=\"color: #800080; text-decoration-color: #800080; font-weight: bold\">torch</span><span style=\"color: #800080; text-decoration-color: #800080; font-weight: bold\">.Size</span><span style=\"font-weight: bold\">([</span><span style=\"color: #008080; text-decoration-color: #008080; font-weight: bold\">10</span>, <span style=\"color: #008080; text-decoration-color: #008080; font-weight: bold\">2</span><span style=\"font-weight: bold\">])</span>,\n",
                            "        <span style=\"color: #808000; text-decoration-color: #808000\">init_metal</span>=<span style=\"color: #800080; text-decoration-color: #800080; font-weight: bold\">torch</span><span style=\"color: #800080; text-decoration-color: #800080; font-weight: bold\">.Size</span><span style=\"font-weight: bold\">([</span><span style=\"color: #008080; text-decoration-color: #008080; font-weight: bold\">10</span>, <span style=\"color: #008080; text-decoration-color: #008080; font-weight: bold\">2</span><span style=\"font-weight: bold\">])</span>,\n",
                            "        <span style=\"color: #808000; text-decoration-color: #808000\">factories_to_place</span>=<span style=\"color: #800080; text-decoration-color: #800080; font-weight: bold\">torch</span><span style=\"color: #800080; text-decoration-color: #800080; font-weight: bold\">.Size</span><span style=\"font-weight: bold\">([</span><span style=\"color: #008080; text-decoration-color: #008080; font-weight: bold\">10</span>, <span style=\"color: #008080; text-decoration-color: #008080; font-weight: bold\">2</span><span style=\"font-weight: bold\">])</span>,\n",
                            "        <span style=\"color: #808000; text-decoration-color: #808000\">factory_strains</span>=<span style=\"color: #800080; text-decoration-color: #800080; font-weight: bold\">torch</span><span style=\"color: #800080; text-decoration-color: #800080; font-weight: bold\">.Size</span><span style=\"font-weight: bold\">([</span><span style=\"color: #008080; text-decoration-color: #008080; font-weight: bold\">10</span>, <span style=\"color: #008080; text-decoration-color: #008080; font-weight: bold\">2</span>, <span style=\"color: #008080; text-decoration-color: #008080; font-weight: bold\">6</span><span style=\"font-weight: bold\">])</span>,\n",
                            "        <span style=\"color: #808000; text-decoration-color: #808000\">n_factory</span>=<span style=\"color: #800080; text-decoration-color: #800080; font-weight: bold\">torch</span><span style=\"color: #800080; text-decoration-color: #800080; font-weight: bold\">.Size</span><span style=\"font-weight: bold\">([</span><span style=\"color: #008080; text-decoration-color: #008080; font-weight: bold\">10</span>, <span style=\"color: #008080; text-decoration-color: #008080; font-weight: bold\">2</span><span style=\"font-weight: bold\">])</span>\n",
                            "    <span style=\"font-weight: bold\">)</span>,\n",
                            "    <span style=\"color: #808000; text-decoration-color: #808000\">global_id</span>=<span style=\"color: #800080; text-decoration-color: #800080; font-weight: bold\">torch</span><span style=\"color: #800080; text-decoration-color: #800080; font-weight: bold\">.Size</span><span style=\"font-weight: bold\">([</span><span style=\"color: #008080; text-decoration-color: #008080; font-weight: bold\">10</span><span style=\"font-weight: bold\">])</span>,\n",
                            "    <span style=\"color: #808000; text-decoration-color: #808000\">place_first</span>=<span style=\"color: #800080; text-decoration-color: #800080; font-weight: bold\">torch</span><span style=\"color: #800080; text-decoration-color: #800080; font-weight: bold\">.Size</span><span style=\"font-weight: bold\">([</span><span style=\"color: #008080; text-decoration-color: #008080; font-weight: bold\">10</span><span style=\"font-weight: bold\">])</span>\n",
                            "<span style=\"font-weight: bold\">)</span>\n",
                            "</pre>\n"
                        ],
                        "text/plain": [
                            "\u001b[1;35mState\u001b[0m\u001b[1m(\u001b[0m\n",
                            "    \u001b[33menv_cfg\u001b[0m=\u001b[3;35mNone\u001b[0m,\n",
                            "    \u001b[33mseed\u001b[0m=\u001b[1;35mtorch\u001b[0m\u001b[1;35m.Size\u001b[0m\u001b[1m(\u001b[0m\u001b[1m[\u001b[0m\u001b[1;36m10\u001b[0m\u001b[1m]\u001b[0m\u001b[1m)\u001b[0m,\n",
                            "    \u001b[33mrng_state\u001b[0m=\u001b[3;35mNone\u001b[0m,\n",
                            "    \u001b[33menv_steps\u001b[0m=\u001b[1;35mtorch\u001b[0m\u001b[1;35m.Size\u001b[0m\u001b[1m(\u001b[0m\u001b[1m[\u001b[0m\u001b[1;36m10\u001b[0m\u001b[1m]\u001b[0m\u001b[1m)\u001b[0m,\n",
                            "    \u001b[33mboard\u001b[0m=\u001b[1;35mBoard\u001b[0m\u001b[1m(\u001b[0m\n",
                            "        \u001b[33mseed\u001b[0m=\u001b[1;35mtorch\u001b[0m\u001b[1;35m.Size\u001b[0m\u001b[1m(\u001b[0m\u001b[1m[\u001b[0m\u001b[1;36m10\u001b[0m\u001b[1m]\u001b[0m\u001b[1m)\u001b[0m,\n",
                            "        \u001b[33mfactories_per_team\u001b[0m=\u001b[1;35mtorch\u001b[0m\u001b[1;35m.Size\u001b[0m\u001b[1m(\u001b[0m\u001b[1m[\u001b[0m\u001b[1;36m10\u001b[0m\u001b[1m]\u001b[0m\u001b[1m)\u001b[0m,\n",
                            "        \u001b[33mmap\u001b[0m=\u001b[1;35mGameMap\u001b[0m\u001b[1m(\u001b[0m\n",
                            "            \u001b[33mrubble\u001b[0m=\u001b[1;35mtorch\u001b[0m\u001b[1;35m.Size\u001b[0m\u001b[1m(\u001b[0m\u001b[1m[\u001b[0m\u001b[1;36m10\u001b[0m, \u001b[1;36m48\u001b[0m, \u001b[1;36m48\u001b[0m\u001b[1m]\u001b[0m\u001b[1m)\u001b[0m,\n",
                            "            \u001b[33mice\u001b[0m=\u001b[1;35mtorch\u001b[0m\u001b[1;35m.Size\u001b[0m\u001b[1m(\u001b[0m\u001b[1m[\u001b[0m\u001b[1;36m10\u001b[0m, \u001b[1;36m48\u001b[0m, \u001b[1;36m48\u001b[0m\u001b[1m]\u001b[0m\u001b[1m)\u001b[0m,\n",
                            "            \u001b[33more\u001b[0m=\u001b[1;35mtorch\u001b[0m\u001b[1;35m.Size\u001b[0m\u001b[1m(\u001b[0m\u001b[1m[\u001b[0m\u001b[1;36m10\u001b[0m, \u001b[1;36m48\u001b[0m, \u001b[1;36m48\u001b[0m\u001b[1m]\u001b[0m\u001b[1m)\u001b[0m,\n",
                            "            \u001b[33msymmetry\u001b[0m=\u001b[1;35mtorch\u001b[0m\u001b[1;35m.Size\u001b[0m\u001b[1m(\u001b[0m\u001b[1m[\u001b[0m\u001b[1;36m10\u001b[0m\u001b[1m]\u001b[0m\u001b[1m)\u001b[0m\n",
                            "        \u001b[1m)\u001b[0m,\n",
                            "        \u001b[33mlichen\u001b[0m=\u001b[1;35mtorch\u001b[0m\u001b[1;35m.Size\u001b[0m\u001b[1m(\u001b[0m\u001b[1m[\u001b[0m\u001b[1;36m10\u001b[0m, \u001b[1;36m48\u001b[0m, \u001b[1;36m48\u001b[0m\u001b[1m]\u001b[0m\u001b[1m)\u001b[0m,\n",
                            "        \u001b[33mlichen_strains\u001b[0m=\u001b[1;35mtorch\u001b[0m\u001b[1;35m.Size\u001b[0m\u001b[1m(\u001b[0m\u001b[1m[\u001b[0m\u001b[1;36m10\u001b[0m, \u001b[1;36m48\u001b[0m, \u001b[1;36m48\u001b[0m\u001b[1m]\u001b[0m\u001b[1m)\u001b[0m,\n",
                            "        \u001b[33munits_map\u001b[0m=\u001b[1;35mtorch\u001b[0m\u001b[1;35m.Size\u001b[0m\u001b[1m(\u001b[0m\u001b[1m[\u001b[0m\u001b[1;36m10\u001b[0m, \u001b[1;36m48\u001b[0m, \u001b[1;36m48\u001b[0m\u001b[1m]\u001b[0m\u001b[1m)\u001b[0m,\n",
                            "        \u001b[33mfactory_map\u001b[0m=\u001b[1;35mtorch\u001b[0m\u001b[1;35m.Size\u001b[0m\u001b[1m(\u001b[0m\u001b[1m[\u001b[0m\u001b[1;36m10\u001b[0m, \u001b[1;36m48\u001b[0m, \u001b[1;36m48\u001b[0m\u001b[1m]\u001b[0m\u001b[1m)\u001b[0m,\n",
                            "        \u001b[33mfactory_occupancy_map\u001b[0m=\u001b[1;35mtorch\u001b[0m\u001b[1;35m.Size\u001b[0m\u001b[1m(\u001b[0m\u001b[1m[\u001b[0m\u001b[1;36m10\u001b[0m, \u001b[1;36m48\u001b[0m, \u001b[1;36m48\u001b[0m\u001b[1m]\u001b[0m\u001b[1m)\u001b[0m,\n",
                            "        \u001b[33mfactory_pos\u001b[0m=\u001b[1;35mtorch\u001b[0m\u001b[1;35m.Size\u001b[0m\u001b[1m(\u001b[0m\u001b[1m[\u001b[0m\u001b[1;36m10\u001b[0m, \u001b[1;36m12\u001b[0m, \u001b[1;36m2\u001b[0m\u001b[1m]\u001b[0m\u001b[1m)\u001b[0m\n",
                            "    \u001b[1m)\u001b[0m,\n",
                            "    \u001b[33mweather_schedule\u001b[0m=\u001b[1;35mtorch\u001b[0m\u001b[1;35m.Size\u001b[0m\u001b[1m(\u001b[0m\u001b[1m[\u001b[0m\u001b[1;36m10\u001b[0m, \u001b[1;36m1000\u001b[0m\u001b[1m]\u001b[0m\u001b[1m)\u001b[0m,\n",
                            "    \u001b[33munits\u001b[0m=\u001b[1;35mUnit\u001b[0m\u001b[1m(\u001b[0m\n",
                            "        \u001b[33munit_type\u001b[0m=\u001b[1;35mtorch\u001b[0m\u001b[1;35m.Size\u001b[0m\u001b[1m(\u001b[0m\u001b[1m[\u001b[0m\u001b[1;36m10\u001b[0m, \u001b[1;36m2\u001b[0m, \u001b[1;36m200\u001b[0m\u001b[1m]\u001b[0m\u001b[1m)\u001b[0m,\n",
                            "        \u001b[33maction_queue\u001b[0m=\u001b[1;35mActionQueue\u001b[0m\u001b[1m(\u001b[0m\n",
                            "            \u001b[33mdata\u001b[0m=\u001b[1;35mUnitAction\u001b[0m\u001b[1m(\u001b[0m\n",
                            "                \u001b[33maction_type\u001b[0m=\u001b[1;35mtorch\u001b[0m\u001b[1;35m.Size\u001b[0m\u001b[1m(\u001b[0m\u001b[1m[\u001b[0m\u001b[1;36m10\u001b[0m, \u001b[1;36m2\u001b[0m, \u001b[1;36m200\u001b[0m, \u001b[1;36m20\u001b[0m\u001b[1m]\u001b[0m\u001b[1m)\u001b[0m,\n",
                            "                \u001b[33mdirection\u001b[0m=\u001b[1;35mtorch\u001b[0m\u001b[1;35m.Size\u001b[0m\u001b[1m(\u001b[0m\u001b[1m[\u001b[0m\u001b[1;36m10\u001b[0m, \u001b[1;36m2\u001b[0m, \u001b[1;36m200\u001b[0m, \u001b[1;36m20\u001b[0m\u001b[1m]\u001b[0m\u001b[1m)\u001b[0m,\n",
                            "                \u001b[33mresource_type\u001b[0m=\u001b[1;35mtorch\u001b[0m\u001b[1;35m.Size\u001b[0m\u001b[1m(\u001b[0m\u001b[1m[\u001b[0m\u001b[1;36m10\u001b[0m, \u001b[1;36m2\u001b[0m, \u001b[1;36m200\u001b[0m, \u001b[1;36m20\u001b[0m\u001b[1m]\u001b[0m\u001b[1m)\u001b[0m,\n",
                            "                \u001b[33mamount\u001b[0m=\u001b[1;35mtorch\u001b[0m\u001b[1;35m.Size\u001b[0m\u001b[1m(\u001b[0m\u001b[1m[\u001b[0m\u001b[1;36m10\u001b[0m, \u001b[1;36m2\u001b[0m, \u001b[1;36m200\u001b[0m, \u001b[1;36m20\u001b[0m\u001b[1m]\u001b[0m\u001b[1m)\u001b[0m,\n",
                            "                \u001b[33mrepeat\u001b[0m=\u001b[1;35mtorch\u001b[0m\u001b[1;35m.Size\u001b[0m\u001b[1m(\u001b[0m\u001b[1m[\u001b[0m\u001b[1;36m10\u001b[0m, \u001b[1;36m2\u001b[0m, \u001b[1;36m200\u001b[0m, \u001b[1;36m20\u001b[0m\u001b[1m]\u001b[0m\u001b[1m)\u001b[0m\n",
                            "            \u001b[1m)\u001b[0m,\n",
                            "            \u001b[33mfront\u001b[0m=\u001b[1;35mtorch\u001b[0m\u001b[1;35m.Size\u001b[0m\u001b[1m(\u001b[0m\u001b[1m[\u001b[0m\u001b[1;36m10\u001b[0m, \u001b[1;36m2\u001b[0m, \u001b[1;36m200\u001b[0m\u001b[1m]\u001b[0m\u001b[1m)\u001b[0m,\n",
                            "            \u001b[33mrear\u001b[0m=\u001b[1;35mtorch\u001b[0m\u001b[1;35m.Size\u001b[0m\u001b[1m(\u001b[0m\u001b[1m[\u001b[0m\u001b[1;36m10\u001b[0m, \u001b[1;36m2\u001b[0m, \u001b[1;36m200\u001b[0m\u001b[1m]\u001b[0m\u001b[1m)\u001b[0m,\n",
                            "            \u001b[33mcount\u001b[0m=\u001b[1;35mtorch\u001b[0m\u001b[1;35m.Size\u001b[0m\u001b[1m(\u001b[0m\u001b[1m[\u001b[0m\u001b[1;36m10\u001b[0m, \u001b[1;36m2\u001b[0m, \u001b[1;36m200\u001b[0m\u001b[1m]\u001b[0m\u001b[1m)\u001b[0m\n",
                            "        \u001b[1m)\u001b[0m,\n",
                            "        \u001b[33mteam_id\u001b[0m=\u001b[1;35mtorch\u001b[0m\u001b[1;35m.Size\u001b[0m\u001b[1m(\u001b[0m\u001b[1m[\u001b[0m\u001b[1;36m10\u001b[0m, \u001b[1;36m2\u001b[0m, \u001b[1;36m200\u001b[0m\u001b[1m]\u001b[0m\u001b[1m)\u001b[0m,\n",
                            "        \u001b[33munit_id\u001b[0m=\u001b[1;35mtorch\u001b[0m\u001b[1;35m.Size\u001b[0m\u001b[1m(\u001b[0m\u001b[1m[\u001b[0m\u001b[1;36m10\u001b[0m, \u001b[1;36m2\u001b[0m, \u001b[1;36m200\u001b[0m\u001b[1m]\u001b[0m\u001b[1m)\u001b[0m,\n",
                            "        \u001b[33mpos\u001b[0m=\u001b[1;35mPosition\u001b[0m\u001b[1m(\u001b[0m\u001b[33mpos\u001b[0m=\u001b[1;35mtorch\u001b[0m\u001b[1;35m.Size\u001b[0m\u001b[1m(\u001b[0m\u001b[1m[\u001b[0m\u001b[1;36m10\u001b[0m, \u001b[1;36m2\u001b[0m, \u001b[1;36m200\u001b[0m, \u001b[1;36m2\u001b[0m\u001b[1m]\u001b[0m\u001b[1m)\u001b[0m\u001b[1m)\u001b[0m,\n",
                            "        \u001b[33mcargo\u001b[0m=\u001b[1;35mUnitCargo\u001b[0m\u001b[1m(\u001b[0m\u001b[33mstock\u001b[0m=\u001b[1;35mtorch\u001b[0m\u001b[1;35m.Size\u001b[0m\u001b[1m(\u001b[0m\u001b[1m[\u001b[0m\u001b[1;36m10\u001b[0m, \u001b[1;36m2\u001b[0m, \u001b[1;36m200\u001b[0m, \u001b[1;36m4\u001b[0m\u001b[1m]\u001b[0m\u001b[1m)\u001b[0m\u001b[1m)\u001b[0m,\n",
                            "        \u001b[33mpower\u001b[0m=\u001b[1;35mtorch\u001b[0m\u001b[1;35m.Size\u001b[0m\u001b[1m(\u001b[0m\u001b[1m[\u001b[0m\u001b[1;36m10\u001b[0m, \u001b[1;36m2\u001b[0m, \u001b[1;36m200\u001b[0m\u001b[1m]\u001b[0m\u001b[1m)\u001b[0m\n",
                            "    \u001b[1m)\u001b[0m,\n",
                            "    \u001b[33munit_id2idx\u001b[0m=\u001b[1;35mtorch\u001b[0m\u001b[1;35m.Size\u001b[0m\u001b[1m(\u001b[0m\u001b[1m[\u001b[0m\u001b[1;36m10\u001b[0m, \u001b[1;36m2000\u001b[0m, \u001b[1;36m2\u001b[0m\u001b[1m]\u001b[0m\u001b[1m)\u001b[0m,\n",
                            "    \u001b[33mn_units\u001b[0m=\u001b[1;35mtorch\u001b[0m\u001b[1;35m.Size\u001b[0m\u001b[1m(\u001b[0m\u001b[1m[\u001b[0m\u001b[1;36m10\u001b[0m, \u001b[1;36m2\u001b[0m\u001b[1m]\u001b[0m\u001b[1m)\u001b[0m,\n",
                            "    \u001b[33mfactories\u001b[0m=\u001b[1;35mFactory\u001b[0m\u001b[1m(\u001b[0m\n",
                            "        \u001b[33mteam_id\u001b[0m=\u001b[1;35mtorch\u001b[0m\u001b[1;35m.Size\u001b[0m\u001b[1m(\u001b[0m\u001b[1m[\u001b[0m\u001b[1;36m10\u001b[0m, \u001b[1;36m2\u001b[0m, \u001b[1;36m6\u001b[0m\u001b[1m]\u001b[0m\u001b[1m)\u001b[0m,\n",
                            "        \u001b[33munit_id\u001b[0m=\u001b[1;35mtorch\u001b[0m\u001b[1;35m.Size\u001b[0m\u001b[1m(\u001b[0m\u001b[1m[\u001b[0m\u001b[1;36m10\u001b[0m, \u001b[1;36m2\u001b[0m, \u001b[1;36m6\u001b[0m\u001b[1m]\u001b[0m\u001b[1m)\u001b[0m,\n",
                            "        \u001b[33mpos\u001b[0m=\u001b[1;35mPosition\u001b[0m\u001b[1m(\u001b[0m\u001b[33mpos\u001b[0m=\u001b[1;35mtorch\u001b[0m\u001b[1;35m.Size\u001b[0m\u001b[1m(\u001b[0m\u001b[1m[\u001b[0m\u001b[1;36m10\u001b[0m, \u001b[1;36m2\u001b[0m, \u001b[1;36m6\u001b[0m, \u001b[1;36m2\u001b[0m\u001b[1m]\u001b[0m\u001b[1m)\u001b[0m\u001b[1m)\u001b[0m,\n",
                            "        \u001b[33mpower\u001b[0m=\u001b[1;35mtorch\u001b[0m\u001b[1;35m.Size\u001b[0m\u001b[1m(\u001b[0m\u001b[1m[\u001b[0m\u001b[1;36m10\u001b[0m, \u001b[1;36m2\u001b[0m, \u001b[1;36m6\u001b[0m\u001b[1m]\u001b[0m\u001b[1m)\u001b[0m,\n",
                            "        \u001b[33mcargo\u001b[0m=\u001b[1;35mUnitCargo\u001b[0m\u001b[1m(\u001b[0m\u001b[33mstock\u001b[0m=\u001b[1;35mtorch\u001b[0m\u001b[1;35m.Size\u001b[0m\u001b[1m(\u001b[0m\u001b[1m[\u001b[0m\u001b[1;36m10\u001b[0m, \u001b[1;36m2\u001b[0m, \u001b[1;36m6\u001b[0m, \u001b[1;36m4\u001b[0m\u001b[1m]\u001b[0m\u001b[1m)\u001b[0m\u001b[1m)\u001b[0m\n",
                            "    \u001b[1m)\u001b[0m,\n",
                            "    \u001b[33mfactory_id2idx\u001b[0m=\u001b[1;35mtorch\u001b[0m\u001b[1;35m.Size\u001b[0m\u001b[1m(\u001b[0m\u001b[1m[\u001b[0m\u001b[1;36m10\u001b[0m, \u001b[1;36m12\u001b[0m, \u001b[1;36m2\u001b[0m\u001b[1m]\u001b[0m\u001b[1m)\u001b[0m,\n",
                            "    \u001b[33mn_factories\u001b[0m=\u001b[1;35mtorch\u001b[0m\u001b[1;35m.Size\u001b[0m\u001b[1m(\u001b[0m\u001b[1m[\u001b[0m\u001b[1;36m10\u001b[0m, \u001b[1;36m2\u001b[0m\u001b[1m]\u001b[0m\u001b[1m)\u001b[0m,\n",
                            "    \u001b[33mteams\u001b[0m=\u001b[1;35mTeam\u001b[0m\u001b[1m(\u001b[0m\n",
                            "        \u001b[33mteam_id\u001b[0m=\u001b[1;35mtorch\u001b[0m\u001b[1;35m.Size\u001b[0m\u001b[1m(\u001b[0m\u001b[1m[\u001b[0m\u001b[1;36m10\u001b[0m, \u001b[1;36m2\u001b[0m\u001b[1m]\u001b[0m\u001b[1m)\u001b[0m,\n",
                            "        \u001b[33mfaction\u001b[0m=\u001b[1;35mtorch\u001b[0m\u001b[1;35m.Size\u001b[0m\u001b[1m(\u001b[0m\u001b[1m[\u001b[0m\u001b[1;36m10\u001b[0m, \u001b[1;36m2\u001b[0m\u001b[1m]\u001b[0m\u001b[1m)\u001b[0m,\n",
                            "        \u001b[33minit_water\u001b[0m=\u001b[1;35mtorch\u001b[0m\u001b[1;35m.Size\u001b[0m\u001b[1m(\u001b[0m\u001b[1m[\u001b[0m\u001b[1;36m10\u001b[0m, \u001b[1;36m2\u001b[0m\u001b[1m]\u001b[0m\u001b[1m)\u001b[0m,\n",
                            "        \u001b[33minit_metal\u001b[0m=\u001b[1;35mtorch\u001b[0m\u001b[1;35m.Size\u001b[0m\u001b[1m(\u001b[0m\u001b[1m[\u001b[0m\u001b[1;36m10\u001b[0m, \u001b[1;36m2\u001b[0m\u001b[1m]\u001b[0m\u001b[1m)\u001b[0m,\n",
                            "        \u001b[33mfactories_to_place\u001b[0m=\u001b[1;35mtorch\u001b[0m\u001b[1;35m.Size\u001b[0m\u001b[1m(\u001b[0m\u001b[1m[\u001b[0m\u001b[1;36m10\u001b[0m, \u001b[1;36m2\u001b[0m\u001b[1m]\u001b[0m\u001b[1m)\u001b[0m,\n",
                            "        \u001b[33mfactory_strains\u001b[0m=\u001b[1;35mtorch\u001b[0m\u001b[1;35m.Size\u001b[0m\u001b[1m(\u001b[0m\u001b[1m[\u001b[0m\u001b[1;36m10\u001b[0m, \u001b[1;36m2\u001b[0m, \u001b[1;36m6\u001b[0m\u001b[1m]\u001b[0m\u001b[1m)\u001b[0m,\n",
                            "        \u001b[33mn_factory\u001b[0m=\u001b[1;35mtorch\u001b[0m\u001b[1;35m.Size\u001b[0m\u001b[1m(\u001b[0m\u001b[1m[\u001b[0m\u001b[1;36m10\u001b[0m, \u001b[1;36m2\u001b[0m\u001b[1m]\u001b[0m\u001b[1m)\u001b[0m\n",
                            "    \u001b[1m)\u001b[0m,\n",
                            "    \u001b[33mglobal_id\u001b[0m=\u001b[1;35mtorch\u001b[0m\u001b[1;35m.Size\u001b[0m\u001b[1m(\u001b[0m\u001b[1m[\u001b[0m\u001b[1;36m10\u001b[0m\u001b[1m]\u001b[0m\u001b[1m)\u001b[0m,\n",
                            "    \u001b[33mplace_first\u001b[0m=\u001b[1;35mtorch\u001b[0m\u001b[1;35m.Size\u001b[0m\u001b[1m(\u001b[0m\u001b[1m[\u001b[0m\u001b[1;36m10\u001b[0m\u001b[1m]\u001b[0m\u001b[1m)\u001b[0m\n",
                            "\u001b[1m)\u001b[0m\n"
                        ]
                    },
                    "metadata": {},
                    "output_type": "display_data"
                }
            ],
            "source": [
                "import jux.torch\n",
                "\n",
                "# rng_state cannot be converted to torch\n",
                "# remove env_cfg to reduce output size\n",
                "torch_state = jax.tree_map(jux.torch.to_torch, states._replace(rng_state=None, env_cfg=None))\n",
                "rich.print(jax.tree_map(lambda x: x.shape, torch_state))"
            ]
        },
        {
            "cell_type": "markdown",
            "metadata": {},
            "source": [
                "You can also convert PyTorch tensors to JAX arrays by `jux.torch.from_torch`. Typical usage is to convert actions generated by PyTorch models to JAX arrays, so they can be feed into `JuxEnv.step_*()`."
            ]
        },
        {
            "cell_type": "code",
            "execution_count": 34,
            "metadata": {},
            "outputs": [
                {
                    "data": {
                        "text/plain": [
                            "DeviceArray([0, 1, 2, 3, 4, 5, 6, 7, 8, 9], dtype=int32)"
                        ]
                    },
                    "execution_count": 34,
                    "metadata": {},
                    "output_type": "execute_result"
                }
            ],
            "source": [
                "import torch\n",
                "\n",
                "jux.torch.from_torch(torch.arange(10))"
            ]
        },
        {
            "cell_type": "markdown",
            "metadata": {},
            "source": [
                "There is also a utility function `JuxAction.from_torch()` for build a valid `JuxAction` object from PyTorch tensors."
            ]
        }
    ],
    "metadata": {
        "kernelspec": {
            "display_name": "base",
            "language": "python",
            "name": "python3"
        },
        "language_info": {
            "codemirror_mode": {
                "name": "ipython",
                "version": 3
            },
            "file_extension": ".py",
            "mimetype": "text/x-python",
            "name": "python",
            "nbconvert_exporter": "python",
            "pygments_lexer": "ipython3",
            "version": "3.8.13 | packaged by conda-forge | (default, Mar 25 2022, 06:04:10) \n[GCC 10.3.0]"
        },
        "orig_nbformat": 4,
        "vscode": {
            "interpreter": {
                "hash": "d4d1e4263499bec80672ea0156c357c1ee493ec2b1c70f0acce89fc37c4a6abe"
            }
        }
    },
    "nbformat": 4,
    "nbformat_minor": 2
}
