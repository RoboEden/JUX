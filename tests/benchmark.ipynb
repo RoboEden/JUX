{
 "cells": [
  {
   "cell_type": "code",
   "execution_count": 39,
   "metadata": {},
   "outputs": [],
   "source": [
    "import os\n",
    "# os.environ['XLA_PYTHON_CLIENT_PREALLOCATE']='false'\n",
    "\n",
    "import jux\n",
    "from rich import print\n",
    "from jux.state import State\n",
    "from jux.config import JuxBufferConfig\n",
    "import jax\n",
    "import jax.numpy as jnp"
   ]
  },
  {
   "cell_type": "markdown",
   "metadata": {},
   "source": [
    "# Benchmark Lux"
   ]
  },
  {
   "cell_type": "code",
   "execution_count": 40,
   "metadata": {},
   "outputs": [
    {
     "data": {
      "text/html": [
       "<pre style=\"white-space:pre;overflow-x:auto;line-height:normal;font-family:Menlo,'DejaVu Sans Mono',consolas,'Courier New',monospace\"><span style=\"color: #008080; text-decoration-color: #008080; font-weight: bold\">1004</span>\n",
       "</pre>\n"
      ],
      "text/plain": [
       "\u001b[1;36m1004\u001b[0m\n"
      ]
     },
     "metadata": {},
     "output_type": "display_data"
    },
    {
     "name": "stdout",
     "output_type": "stream",
     "text": [
      "CPU times: user 3.93 s, sys: 0 ns, total: 3.93 s\n",
      "Wall time: 3.93 s\n"
     ]
    }
   ],
   "source": [
    "env, actions = jux.utils.load_replay(\"https://www.kaggleusercontent.com/episodes/45715004.json\")\n",
    "env.env_cfg.verbose = False\n",
    "def lux_step(env, actions):\n",
    "    for i, act in enumerate(actions):\n",
    "        env.step(act)\n",
    "    print(i)\n",
    "%time lux_step(env, actions)"
   ]
  },
  {
   "cell_type": "markdown",
   "metadata": {},
   "source": [
    "# Benchmark Jux"
   ]
  },
  {
   "cell_type": "code",
   "execution_count": 41,
   "metadata": {},
   "outputs": [],
   "source": [
    "# prepare an env\n",
    "env, actions = jux.utils.load_replay(\"https://www.kaggleusercontent.com/episodes/45715004.json\")\n",
    "env.env_cfg.verbose = False\n",
    "while env.env_steps < 100:\n",
    "    act = next(actions)\n",
    "    # print(env.env_steps, act)\n",
    "    env.step(act)\n",
    "\n",
    "# jit\n",
    "_state_step_late_game = jax.jit(State._step_late_game)\n",
    "_state_step_late_game_vmap = jax.jit(jax.vmap(_state_step_late_game))"
   ]
  },
  {
   "cell_type": "code",
   "execution_count": 42,
   "metadata": {},
   "outputs": [],
   "source": [
    "# config\n",
    "buf_cfg = JuxBufferConfig(MAX_N_UNITS=100)\n",
    "B = 20000"
   ]
  },
  {
   "cell_type": "markdown",
   "metadata": {},
   "source": [
    "## without vamp"
   ]
  },
  {
   "cell_type": "code",
   "execution_count": 43,
   "metadata": {},
   "outputs": [],
   "source": [
    "# prepare state and action\n",
    "jux_state = State.from_lux(env.state, buf_cfg)\n",
    "jux_act = jux_state.parse_actions_from_dict(act)\n",
    "\n",
    "# warm up jit\n",
    "_state_step_late_game(jux_state, jux_act); "
   ]
  },
  {
   "cell_type": "code",
   "execution_count": 44,
   "metadata": {},
   "outputs": [
    {
     "name": "stdout",
     "output_type": "stream",
     "text": [
      "1.78 ms ± 18.8 µs per loop (mean ± std. dev. of 7 runs, 1,000 loops each)\n"
     ]
    }
   ],
   "source": [
    "%timeit _state_step_late_game(jux_state, jux_act); jnp.array(0).block_until_ready()"
   ]
  },
  {
   "cell_type": "markdown",
   "metadata": {},
   "source": [
    "## With vmap"
   ]
  },
  {
   "cell_type": "code",
   "execution_count": 45,
   "metadata": {},
   "outputs": [],
   "source": [
    "# prepare state and action\n",
    "jux_state_batch = jax.tree_map(lambda x: x[None].repeat(B, axis=0), jux_state)\n",
    "jux_act_batch = jax.tree_map(lambda x: x[None].repeat(B, axis=0), jux_act)\n",
    "\n",
    "# warm up jit\n",
    "_state_step_late_game_vmap(jux_state_batch, jux_act_batch);"
   ]
  },
  {
   "cell_type": "code",
   "execution_count": 46,
   "metadata": {},
   "outputs": [
    {
     "name": "stdout",
     "output_type": "stream",
     "text": [
      "365 ms ± 88.1 µs per loop (mean ± std. dev. of 7 runs, 1 loop each)\n"
     ]
    }
   ],
   "source": [
    "%timeit _state_step_late_game_vmap(jux_state_batch, jux_act_batch); jnp.array(0).block_until_ready()"
   ]
  },
  {
   "cell_type": "code",
   "execution_count": 47,
   "metadata": {},
   "outputs": [
    {
     "data": {
      "text/plain": [
       "210.95890410958904"
      ]
     },
     "execution_count": 47,
     "metadata": {},
     "output_type": "execute_result"
    }
   ],
   "source": [
    "B*3.85/365"
   ]
  },
  {
   "cell_type": "code",
   "execution_count": 48,
   "metadata": {},
   "outputs": [],
   "source": [
    "del jux_state_batch\n",
    "del jux_act_batch"
   ]
  }
 ],
 "metadata": {
  "kernelspec": {
   "display_name": "Python 3.8.13 ('base')",
   "language": "python",
   "name": "python3"
  },
  "language_info": {
   "codemirror_mode": {
    "name": "ipython",
    "version": 3
   },
   "file_extension": ".py",
   "mimetype": "text/x-python",
   "name": "python",
   "nbconvert_exporter": "python",
   "pygments_lexer": "ipython3",
   "version": "3.8.13"
  },
  "orig_nbformat": 4,
  "vscode": {
   "interpreter": {
    "hash": "d4d1e4263499bec80672ea0156c357c1ee493ec2b1c70f0acce89fc37c4a6abe"
   }
  }
 },
 "nbformat": 4,
 "nbformat_minor": 2
}
