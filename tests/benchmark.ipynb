{
 "cells": [
  {
   "cell_type": "code",
   "execution_count": null,
   "metadata": {},
   "outputs": [],
   "source": [
    "import jux\n",
    "from rich import print\n",
    "from jux.state import State\n",
    "from jux.config import JuxBufferConfig\n",
    "import jax\n",
    "import jax.numpy as jnp"
   ]
  },
  {
   "cell_type": "markdown",
   "metadata": {},
   "source": [
    "# Benchmark Lux"
   ]
  },
  {
   "cell_type": "code",
   "execution_count": null,
   "metadata": {},
   "outputs": [],
   "source": [
    "env, actions = jux.utils.load_replay(\"https://www.kaggleusercontent.com/episodes/45715004.json\")\n",
    "def lux_step(env, actions):\n",
    "    for i, act in enumerate(actions):\n",
    "        env.step(act)\n",
    "    print(i)\n",
    "%time lux_step(env, actions)"
   ]
  },
  {
   "cell_type": "markdown",
   "metadata": {},
   "source": [
    "# Benchmark Jux"
   ]
  },
  {
   "cell_type": "markdown",
   "metadata": {},
   "source": [
    "## without vamp"
   ]
  },
  {
   "cell_type": "code",
   "execution_count": null,
   "metadata": {},
   "outputs": [],
   "source": [
    "# config\n",
    "buf_cfg = JuxBufferConfig(MAX_N_UNITS=1000)\n",
    "B = 500\n",
    "\n",
    "# prepare an env\n",
    "env, actions = jux.utils.load_replay(\"https://www.kaggleusercontent.com/episodes/45715004.json\")\n",
    "while env.env_steps < 100:\n",
    "    act = next(actions)\n",
    "    # print(env.env_steps, act)\n",
    "    env.step(act)\n",
    "\n",
    "# prepare state and action\n",
    "jux_state = State.from_lux(env.state, buf_cfg)\n",
    "jux_act = jux_state.parse_actions_from_dict(act)\n",
    "\n",
    "# jit\n",
    "_state_step_late_game = jax.jit(State._step_late_game)\n",
    "_state_step_late_game(jux_state, jux_act); # warm up jit"
   ]
  },
  {
   "cell_type": "code",
   "execution_count": null,
   "metadata": {},
   "outputs": [],
   "source": [
    "%timeit _state_step_late_game(jux_state, jux_act); jnp.array(0).block_until_ready()"
   ]
  },
  {
   "cell_type": "markdown",
   "metadata": {},
   "source": [
    "## With vmap"
   ]
  },
  {
   "cell_type": "code",
   "execution_count": null,
   "metadata": {},
   "outputs": [],
   "source": [
    "jux_state_batch = jux.tree_util.batch_into_leaf([jux_state]* B)\n",
    "jux_act_batch = jux.tree_util.batch_into_leaf([jux_act]* B)\n",
    "_state_step_late_game_vmap = jax.jit(jax.vmap(_state_step_late_game))\n",
    "_state_step_late_game_vmap(jux_state_batch, jux_act_batch);"
   ]
  },
  {
   "cell_type": "code",
   "execution_count": null,
   "metadata": {},
   "outputs": [],
   "source": [
    "%timeit _state_step_late_game_vmap(jux_state_batch, jux_act_batch); jnp.array(0).block_until_ready()"
   ]
  }
 ],
 "metadata": {
  "kernelspec": {
   "display_name": "Python 3.8.15 ('jux')",
   "language": "python",
   "name": "python3"
  },
  "language_info": {
   "codemirror_mode": {
    "name": "ipython",
    "version": 3
   },
   "file_extension": ".py",
   "mimetype": "text/x-python",
   "name": "python",
   "nbconvert_exporter": "python",
   "pygments_lexer": "ipython3",
   "version": "3.8.15"
  },
  "orig_nbformat": 4,
  "vscode": {
   "interpreter": {
    "hash": "afa9a28d11c12ef457f8dff75e042f0f036066c271cc2a0d1079eaa46f520aff"
   }
  }
 },
 "nbformat": 4,
 "nbformat_minor": 2
}
